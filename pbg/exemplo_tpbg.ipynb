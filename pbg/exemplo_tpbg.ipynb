{
 "cells": [
  {
   "cell_type": "code",
   "execution_count": 38,
   "source": [
    "from tpbg import TPBG\n",
    "from sklearn.datasets import fetch_20newsgroups\n",
    "from util import SimplePreprocessing\n",
    "from sklearn.feature_extraction.text import TfidfVectorizer\n",
    "from sklearn.metrics import classification_report\n",
    "import numpy as np"
   ],
   "outputs": [],
   "metadata": {}
  },
  {
   "cell_type": "code",
   "execution_count": 39,
   "source": [
    "# loading 20 newsgroup dataset\n",
    "categories = None\n",
    "remove = ('headers', 'footers', 'quotes')\n",
    "data_train = fetch_20newsgroups(subset='train', categories=categories,\n",
    "                                shuffle=True, random_state=42,\n",
    "                                remove=remove)\n",
    "data_test = fetch_20newsgroups(subset='test', categories=categories,\n",
    "                                shuffle=True, random_state=42,\n",
    "                                remove=remove)\n",
    "\n",
    "pp = SimplePreprocessing()\n",
    "x_train = pp.transform(data_train.data)\n",
    "x_test = pp.transform(data_test.data)\n",
    "vectorize = TfidfVectorizer()\n",
    "x_train = vectorize.fit_transform(x_train)\n",
    "x_test = vectorize.transform(x_test)\n",
    "y_train = data_train.target\n",
    "y_test = data_test.target"
   ],
   "outputs": [],
   "metadata": {}
  },
  {
   "cell_type": "code",
   "execution_count": 40,
   "source": [
    "# create unlabeled set\n",
    "n = len(y_train)\n",
    "n_unlabeled = int(n * 0.7)\n",
    "indices = np.arange(n)\n",
    "np.random.shuffle(indices)\n",
    "unlabeled_set = indices[n-n_unlabeled:]\n",
    "print(f\" {len(unlabeled_set)} unlabeled docs from {n} total docs\")\n",
    "# -1 indicate that doc is unlabeled\n",
    "y_train_real = y_train.copy()\n",
    "y_train[unlabeled_set] = -1"
   ],
   "outputs": [
    {
     "output_type": "stream",
     "name": "stdout",
     "text": [
      " 3395 unlabeled docs from 11314 total docs\n"
     ]
    }
   ],
   "metadata": {}
  },
  {
   "cell_type": "code",
   "execution_count": 41,
   "source": [
    "def eval(self):        \n",
    "    self.create_transduction()    \n",
    "    y_predicted = self.transduction_[unlabeled_set]    \n",
    "    y_real = y_train_real[unlabeled_set]    \n",
    "    print(classification_report(y_predicted, y_real))"
   ],
   "outputs": [],
   "metadata": {}
  },
  {
   "cell_type": "code",
   "execution_count": 44,
   "source": [
    "k=20\n",
    "tpbg = TPBG(k, alpha=0.05, beta=0.0001, local_max_itr=5,\n",
    "                 global_max_itr=5, local_threshold=1e-6, global_threshold=1e-6,\n",
    "                 save_interval=-1, feature_names=vectorize.get_feature_names(), target_name=data_train.target_names, \n",
    "                 silence=False, eval_func=eval)"
   ],
   "outputs": [],
   "metadata": {}
  },
  {
   "cell_type": "code",
   "execution_count": 45,
   "source": [
    "tpbg.fit(x_train,y_train)"
   ],
   "outputs": [
    {
     "output_type": "stream",
     "name": "stderr",
     "text": [
      "initialing.[]:   : 100%|##########| 59181/59181 [00:41<00:00, 1409.25it/s]\n",
      "docs processed (itr 0): 100%|##########| 11314/11314 [00:27<00:00, 411.97it/s]\n"
     ]
    },
    {
     "output_type": "stream",
     "name": "stdout",
     "text": [
      "topic 0 [alt.atheism] people, think, like, know, atheist, could, religion, atheism, time, thing\n",
      "topic 1 [comp.graphics] graphic, file, image, thanks, know, program, anyone, format, like, color\n",
      "topic 2 [comp.os.ms-windows.misc] window, file, driver, problem, know, thanks, program, anyone, font, card\n",
      "topic 3 [comp.sys.ibm.pc.hardware] drive, card, scsi, controller, system, monitor, thanks, know, disk, problem\n",
      "topic 4 [comp.sys.mac.hardware] apple, drive, problem, card, know, simms, thanks, like, monitor, anyone\n",
      "topic 5 [comp.windows.x] window, server, widget, motif, application, thanks, file, program, display, know\n",
      "topic 6 [misc.forsale] offer, sale, shipping, please, drive, price, email, condition, interested, like\n",
      "topic 7 [rec.autos] car, like, know, good, think, people, also, engine, anyone, time\n",
      "topic 8 [rec.motorcycles] bike, motorcycle, like, know, ride, think, good, time, helmet, well\n",
      "topic 9 [rec.sport.baseball] game, year, team, player, baseball, think, run, like, pitcher, know\n",
      "topic 10 [rec.sport.hockey] game, team, hockey, player, play, season, year, playoff, like, goal\n",
      "topic 11 [sci.crypt] chip, encryption, clipper, key, government, phone, system, know, algorithm, escrow\n",
      "topic 12 [sci.electronics] know, like, anyone, circuit, thanks, also, work, could, used, good\n",
      "topic 13 [sci.med] gordon, pitt, chastity, cadre, skepticism, shameful, intellect, surrender, bank, disease\n",
      "topic 14 [sci.space] space, nasa, orbit, like, know, think, time, moon, launch, year\n",
      "topic 15 [soc.religion.christian] christian, jesus, church, people, bible, christ, faith, believe, know, think\n",
      "topic 16 [talk.politics.guns] gun, weapon, people, know, firearm, like, right, time, think, fire\n",
      "topic 17 [talk.politics.mideast] armenian, israel, israeli, arab, jew, people, turkish, like, palestinian, know\n",
      "topic 18 [talk.politics.misc] people, think, like, know, government, state, right, time, president, make\n",
      "topic 19 [talk.religion.misc] people, know, christian, like, think, jesus, time, also, good, even\n"
     ]
    },
    {
     "output_type": "stream",
     "name": "stderr",
     "text": [
      "docs processed (itr 1):   0%|          | 32/11314 [00:00<00:35, 314.80it/s]"
     ]
    },
    {
     "output_type": "stream",
     "name": "stdout",
     "text": [
      "              precision    recall  f1-score   support\n",
      "\n",
      "           0       0.25      0.24      0.25       165\n",
      "           1       0.29      0.27      0.28       166\n",
      "           2       0.30      0.31      0.30       166\n",
      "           3       0.39      0.29      0.33       234\n",
      "           4       0.27      0.24      0.25       181\n",
      "           5       0.42      0.39      0.41       194\n",
      "           6       0.36      0.32      0.34       186\n",
      "           7       0.22      0.27      0.24       152\n",
      "           8       0.36      0.41      0.38       175\n",
      "           9       0.47      0.43      0.45       173\n",
      "          10       0.50      0.49      0.50       196\n",
      "          11       0.36      0.42      0.39       172\n",
      "          12       0.26      0.27      0.27       175\n",
      "          13       0.28      0.36      0.32       132\n",
      "          14       0.28      0.31      0.29       147\n",
      "          15       0.31      0.28      0.30       193\n",
      "          16       0.25      0.26      0.26       165\n",
      "          17       0.46      0.52      0.49       153\n",
      "          18       0.14      0.15      0.14       133\n",
      "          19       0.15      0.13      0.14       137\n",
      "\n",
      "    accuracy                           0.32      3395\n",
      "   macro avg       0.32      0.32      0.32      3395\n",
      "weighted avg       0.32      0.32      0.32      3395\n",
      "\n"
     ]
    },
    {
     "output_type": "stream",
     "name": "stderr",
     "text": [
      "docs processed (itr 1): 100%|##########| 11314/11314 [00:25<00:00, 442.57it/s]\n",
      "docs processed (itr 2):   0%|          | 0/11314 [00:00<?, ?it/s]"
     ]
    },
    {
     "output_type": "stream",
     "name": "stdout",
     "text": [
      "topic 0 [alt.atheism] people, atheist, religion, think, atheism, could, islam, thing, argument, moral\n",
      "topic 1 [comp.graphics] graphic, file, image, thanks, program, format, know, color, anyone, looking\n",
      "topic 2 [comp.os.ms-windows.misc] window, file, driver, problem, font, program, thanks, know, anyone, version\n",
      "topic 3 [comp.sys.ibm.pc.hardware] drive, card, scsi, controller, monitor, disk, system, thanks, problem, port\n",
      "topic 4 [comp.sys.mac.hardware] apple, drive, problem, simms, card, monitor, thanks, quadra, know, anyone\n",
      "topic 5 [comp.windows.x] window, server, motif, widget, application, display, thanks, program, file, client\n",
      "topic 6 [misc.forsale] sale, offer, shipping, price, condition, email, please, interested, asking, sell\n",
      "topic 7 [rec.autos] car, engine, like, auto, dealer, ford, good, know, think, price\n",
      "topic 8 [rec.motorcycles] bike, motorcycle, ride, helmet, like, riding, rider, know, good, well\n",
      "topic 9 [rec.sport.baseball] game, year, team, player, baseball, run, last, think, pitching, pitcher\n",
      "topic 10 [rec.sport.hockey] game, team, hockey, player, play, season, playoff, year, goal, leaf\n",
      "topic 11 [sci.crypt] chip, encryption, clipper, key, government, phone, system, escrow, algorithm, security\n",
      "topic 12 [sci.electronics] circuit, know, like, anyone, power, voltage, ground, line, current, used\n",
      "topic 13 [sci.med] pitt, gordon, bank, food, disease, surrender, doctor, cadre, skepticism, shameful\n",
      "topic 14 [sci.space] space, nasa, orbit, launch, moon, earth, shuttle, like, satellite, lunar\n",
      "topic 15 [soc.religion.christian] christian, jesus, church, bible, christ, faith, people, believe, life, truth\n",
      "topic 16 [talk.politics.guns] gun, weapon, people, firearm, fire, right, crime, government, criminal, state\n",
      "topic 17 [talk.politics.mideast] israel, armenian, israeli, arab, jew, people, turkish, palestinian, greek, turkey\n",
      "topic 18 [talk.politics.misc] people, government, president, state, homosexual, think, right, clinton, drug, like\n",
      "topic 19 [talk.religion.misc] christian, jesus, people, know, objective, think, like, good, also, time\n",
      "              precision    recall  f1-score   support\n",
      "\n",
      "           0       0.49      0.55      0.52       141\n",
      "           1       0.59      0.61      0.60       149\n",
      "           2       0.51      0.52      0.52       167\n",
      "           3       0.66      0.54      0.60       206\n",
      "           4       0.58      0.58      0.58       162\n",
      "           5       0.77      0.71      0.74       196\n",
      "           6       0.73      0.63      0.68       193\n",
      "           7       0.59      0.69      0.63       159\n",
      "           8       0.68      0.73      0.70       181\n",
      "           9       0.81      0.78      0.79       165\n",
      "          10       0.84      0.78      0.81       204\n",
      "          11       0.69      0.79      0.74       178\n",
      "          12       0.58      0.67      0.62       162\n",
      "          13       0.75      0.77      0.76       168\n",
      "          14       0.68      0.74      0.71       147\n",
      "          15       0.75      0.53      0.62       250\n",
      "          16       0.69      0.62      0.65       189\n",
      "          17       0.78      0.77      0.78       173\n",
      "          18       0.42      0.48      0.45       125\n",
      "          19       0.21      0.33      0.26        80\n",
      "\n",
      "    accuracy                           0.65      3395\n",
      "   macro avg       0.64      0.64      0.64      3395\n",
      "weighted avg       0.66      0.65      0.65      3395\n",
      "\n"
     ]
    },
    {
     "output_type": "stream",
     "name": "stderr",
     "text": [
      "docs processed (itr 2): 100%|##########| 11314/11314 [00:23<00:00, 479.01it/s]\n",
      "docs processed (itr 3):   0%|          | 0/11314 [00:00<?, ?it/s]"
     ]
    },
    {
     "output_type": "stream",
     "name": "stdout",
     "text": [
      "topic 0 [alt.atheism] people, atheist, religion, think, atheism, argument, could, moral, thing, islam\n",
      "topic 1 [comp.graphics] graphic, file, image, thanks, program, format, know, looking, color, anyone\n",
      "topic 2 [comp.os.ms-windows.misc] window, file, driver, problem, program, thanks, font, version, anyone, using\n",
      "topic 3 [comp.sys.ibm.pc.hardware] drive, card, scsi, controller, disk, monitor, system, thanks, board, port\n",
      "topic 4 [comp.sys.mac.hardware] apple, drive, problem, simms, monitor, card, thanks, know, anyone, quadra\n",
      "topic 5 [comp.windows.x] window, server, motif, widget, application, display, thanks, program, using, client\n",
      "topic 6 [misc.forsale] sale, offer, shipping, price, condition, email, please, sell, interested, asking\n",
      "topic 7 [rec.autos] car, engine, like, auto, dealer, ford, good, model, price, know\n",
      "topic 8 [rec.motorcycles] bike, motorcycle, ride, helmet, riding, like, rider, road, good, know\n",
      "topic 9 [rec.sport.baseball] game, year, team, player, baseball, run, last, think, brave, pitching\n",
      "topic 10 [rec.sport.hockey] game, team, hockey, player, play, season, playoff, year, goal, leaf\n",
      "topic 11 [sci.crypt] chip, encryption, clipper, key, government, phone, system, public, security, escrow\n",
      "topic 12 [sci.electronics] circuit, power, current, ground, voltage, line, anyone, like, know, signal\n",
      "topic 13 [sci.med] food, bank, disease, gordon, pitt, doctor, soon, surrender, patient, cadre\n",
      "topic 14 [sci.space] space, nasa, launch, orbit, moon, earth, shuttle, satellite, cost, lunar\n",
      "topic 15 [soc.religion.christian] christian, jesus, church, bible, christ, faith, people, believe, life, truth\n",
      "topic 16 [talk.politics.guns] weapon, gun, people, firearm, fire, right, crime, government, criminal, state\n",
      "topic 17 [talk.politics.mideast] israel, armenian, israeli, jew, arab, people, turkish, palestinian, greek, turkey\n",
      "topic 18 [talk.politics.misc] people, president, government, state, homosexual, clinton, think, drug, right, make\n",
      "topic 19 [talk.religion.misc] christian, people, jesus, objective, know, think, good, believe, koresh, kent\n",
      "              precision    recall  f1-score   support\n",
      "\n",
      "           0       0.57      0.62      0.59       146\n",
      "           1       0.65      0.68      0.66       146\n",
      "           2       0.59      0.61      0.60       164\n",
      "           3       0.70      0.59      0.64       203\n",
      "           4       0.61      0.66      0.64       149\n",
      "           5       0.80      0.75      0.77       193\n",
      "           6       0.80      0.67      0.73       197\n",
      "           7       0.66      0.76      0.71       161\n",
      "           8       0.73      0.81      0.76       177\n",
      "           9       0.85      0.81      0.83       166\n",
      "          10       0.86      0.80      0.83       205\n",
      "          11       0.74      0.86      0.79       174\n",
      "          12       0.67      0.74      0.70       169\n",
      "          13       0.84      0.84      0.84       171\n",
      "          14       0.75      0.80      0.77       150\n",
      "          15       0.78      0.58      0.67       236\n",
      "          16       0.76      0.67      0.71       194\n",
      "          17       0.83      0.82      0.82       172\n",
      "          18       0.57      0.55      0.56       150\n",
      "          19       0.25      0.43      0.32        72\n",
      "\n",
      "    accuracy                           0.71      3395\n",
      "   macro avg       0.70      0.70      0.70      3395\n",
      "weighted avg       0.72      0.71      0.71      3395\n",
      "\n"
     ]
    },
    {
     "output_type": "stream",
     "name": "stderr",
     "text": [
      "docs processed (itr 3): 100%|##########| 11314/11314 [00:25<00:00, 446.76it/s]\n"
     ]
    },
    {
     "output_type": "stream",
     "name": "stdout",
     "text": [
      "topic 0 [alt.atheism] people, think, religion, atheist, atheism, argument, could, moral, thing, said\n",
      "topic 1 [comp.graphics] graphic, image, file, thanks, program, format, looking, know, color, anyone\n",
      "topic 2 [comp.os.ms-windows.misc] window, file, driver, problem, program, thanks, version, font, using, anyone\n",
      "topic 3 [comp.sys.ibm.pc.hardware] drive, card, scsi, controller, disk, monitor, system, thanks, board, port\n",
      "topic 4 [comp.sys.mac.hardware] apple, drive, problem, monitor, simms, card, thanks, anyone, know, machine\n",
      "topic 5 [comp.windows.x] window, server, motif, application, widget, display, thanks, program, using, client\n",
      "topic 6 [misc.forsale] sale, offer, shipping, price, condition, please, email, interested, sell, asking\n",
      "topic 7 [rec.autos] car, engine, like, dealer, auto, ford, good, model, price, look\n",
      "topic 8 [rec.motorcycles] bike, motorcycle, ride, helmet, like, riding, rider, road, right, good\n",
      "topic 9 [rec.sport.baseball] year, game, team, player, baseball, last, run, think, brave, good\n",
      "topic 10 [rec.sport.hockey] game, team, hockey, player, play, season, playoff, year, goal, leaf\n",
      "topic 11 [sci.crypt] chip, encryption, clipper, key, phone, government, system, public, security, escrow\n",
      "topic 12 [sci.electronics] circuit, power, current, line, ground, anyone, radio, voltage, signal, output\n",
      "topic 13 [sci.med] food, bank, disease, soon, doctor, gordon, pitt, surrender, patient, cadre\n",
      "topic 14 [sci.space] space, nasa, launch, orbit, moon, earth, shuttle, cost, satellite, year\n",
      "topic 15 [soc.religion.christian] christian, jesus, church, bible, believe, christ, people, faith, life, truth\n",
      "topic 16 [talk.politics.guns] weapon, gun, people, right, fire, firearm, crime, government, criminal, state\n",
      "topic 17 [talk.politics.mideast] israel, armenian, israeli, jew, arab, people, turkish, palestinian, greek, turkey\n",
      "topic 18 [talk.politics.misc] people, state, president, government, homosexual, clinton, drug, think, right, make\n",
      "topic 19 [talk.religion.misc] people, christian, jesus, objective, think, know, good, believe, koresh, kent\n"
     ]
    },
    {
     "output_type": "stream",
     "name": "stderr",
     "text": [
      "docs processed (itr 4):   0%|          | 33/11314 [00:00<00:34, 328.59it/s]"
     ]
    },
    {
     "output_type": "stream",
     "name": "stdout",
     "text": [
      "              precision    recall  f1-score   support\n",
      "\n",
      "           0       0.60      0.63      0.61       153\n",
      "           1       0.66      0.68      0.67       149\n",
      "           2       0.60      0.63      0.61       163\n",
      "           3       0.69      0.59      0.64       200\n",
      "           4       0.63      0.68      0.65       150\n",
      "           5       0.81      0.76      0.79       191\n",
      "           6       0.79      0.68      0.73       192\n",
      "           7       0.67      0.76      0.71       164\n",
      "           8       0.72      0.81      0.76       175\n",
      "           9       0.85      0.81      0.83       166\n",
      "          10       0.86      0.84      0.85       197\n",
      "          11       0.74      0.88      0.80       171\n",
      "          12       0.70      0.75      0.72       175\n",
      "          13       0.85      0.86      0.86       168\n",
      "          14       0.78      0.80      0.79       156\n",
      "          15       0.80      0.62      0.70       224\n",
      "          16       0.79      0.70      0.74       192\n",
      "          17       0.84      0.84      0.84       170\n",
      "          18       0.65      0.59      0.62       158\n",
      "          19       0.31      0.47      0.37        81\n",
      "\n",
      "    accuracy                           0.72      3395\n",
      "   macro avg       0.72      0.72      0.72      3395\n",
      "weighted avg       0.73      0.72      0.73      3395\n",
      "\n"
     ]
    },
    {
     "output_type": "stream",
     "name": "stderr",
     "text": [
      "docs processed (itr 4): 100%|##########| 11314/11314 [00:24<00:00, 453.39it/s]\n"
     ]
    },
    {
     "output_type": "stream",
     "name": "stdout",
     "text": [
      "topic 0 [alt.atheism] people, think, religion, atheist, argument, atheism, could, thing, statement, moral\n",
      "topic 1 [comp.graphics] graphic, image, file, thanks, program, format, looking, know, anyone, color\n",
      "topic 2 [comp.os.ms-windows.misc] window, file, driver, problem, version, program, thanks, font, using, anyone\n",
      "topic 3 [comp.sys.ibm.pc.hardware] drive, card, scsi, controller, disk, system, monitor, board, thanks, port\n",
      "topic 4 [comp.sys.mac.hardware] apple, problem, drive, monitor, simms, card, anyone, thanks, know, machine\n",
      "topic 5 [comp.windows.x] window, server, motif, application, widget, display, thanks, program, using, running\n",
      "topic 6 [misc.forsale] sale, offer, shipping, price, please, condition, email, interested, sell, asking\n",
      "topic 7 [rec.autos] car, engine, like, dealer, auto, good, ford, model, look, price\n",
      "topic 8 [rec.motorcycles] bike, motorcycle, ride, helmet, like, riding, rider, road, right, front\n",
      "topic 9 [rec.sport.baseball] year, game, team, player, baseball, last, run, think, good, brave\n",
      "topic 10 [rec.sport.hockey] game, team, hockey, player, play, season, playoff, year, goal, leaf\n",
      "topic 11 [sci.crypt] chip, encryption, clipper, key, phone, government, system, public, security, escrow\n",
      "topic 12 [sci.electronics] circuit, power, current, line, radio, ground, anyone, signal, voltage, used\n",
      "topic 13 [sci.med] food, bank, disease, soon, doctor, gordon, pitt, surrender, patient, cadre\n",
      "topic 14 [sci.space] space, nasa, launch, orbit, moon, earth, shuttle, cost, satellite, year\n",
      "topic 15 [soc.religion.christian] christian, jesus, church, bible, believe, people, christ, faith, life, truth\n",
      "topic 16 [talk.politics.guns] weapon, gun, people, right, fire, firearm, crime, government, criminal, state\n",
      "topic 17 [talk.politics.mideast] israel, armenian, israeli, jew, arab, people, turkish, palestinian, greek, turkey\n",
      "topic 18 [talk.politics.misc] people, state, government, president, clinton, homosexual, drug, think, right, make\n",
      "topic 19 [talk.religion.misc] people, christian, jesus, objective, think, deleted, know, believe, word, good\n",
      "              precision    recall  f1-score   support\n",
      "\n",
      "           0       0.63      0.61      0.62       165\n",
      "           1       0.67      0.67      0.67       153\n",
      "           2       0.61      0.64      0.62       161\n",
      "           3       0.69      0.59      0.63       199\n",
      "           4       0.63      0.70      0.66       145\n",
      "           5       0.81      0.76      0.78       192\n",
      "           6       0.79      0.68      0.73       194\n",
      "           7       0.67      0.76      0.71       164\n",
      "           8       0.71      0.81      0.76       173\n",
      "           9       0.85      0.80      0.83       168\n",
      "          10       0.86      0.85      0.85       195\n",
      "          11       0.72      0.88      0.79       168\n",
      "          12       0.71      0.75      0.73       176\n",
      "          13       0.85      0.87      0.86       166\n",
      "          14       0.79      0.81      0.80       155\n",
      "          15       0.78      0.64      0.70       217\n",
      "          16       0.79      0.70      0.74       192\n",
      "          17       0.84      0.85      0.84       167\n",
      "          18       0.67      0.61      0.64       158\n",
      "          19       0.33      0.47      0.39        87\n",
      "\n",
      "    accuracy                           0.73      3395\n",
      "   macro avg       0.72      0.72      0.72      3395\n",
      "weighted avg       0.73      0.73      0.73      3395\n",
      "\n"
     ]
    },
    {
     "output_type": "stream",
     "name": "stderr",
     "text": [
      "/home/thiagodepaulo/anaconda3/lib/python3.7/site-packages/sklearn/base.py:213: FutureWarning: From version 0.24, get_params will raise an AttributeError if a parameter cannot be retrieved as an instance attribute. Previously it would return None.\n",
      "  FutureWarning)\n"
     ]
    },
    {
     "output_type": "execute_result",
     "data": {
      "text/plain": [
       "TPBG(eval_func=<function eval at 0x7f3de7926680>,\n",
       "     feature_names=['aaaaaaaaaaaa',\n",
       "                    'aaaaaaaaaaaaaaaaaaaaaaaaaaaaaaauuuuuuuuuuuuuuuuuuuuuuuuuuuuuuuugggggggggggggggg',\n",
       "                    'aaah', 'aaahh', 'aaahhhh', 'aaai', 'aacc', 'aachen',\n",
       "                    'aacvkc', 'aaef', 'aalac', 'aalm', 'aalternate', 'aamazing',\n",
       "                    'aamir', 'aammmaaaazzzzzziinnnnggggg', 'aamrl', 'aanbieden',\n",
       "                    'aanerud', 'aangeboden', 'aangegev...\n",
       "     target_name=['alt.atheism', 'comp.graphics', 'comp.os.ms-windows.misc',\n",
       "                  'comp.sys.ibm.pc.hardware', 'comp.sys.mac.hardware',\n",
       "                  'comp.windows.x', 'misc.forsale', 'rec.autos',\n",
       "                  'rec.motorcycles', 'rec.sport.baseball', 'rec.sport.hockey',\n",
       "                  'sci.crypt', 'sci.electronics', 'sci.med', 'sci.space',\n",
       "                  'soc.religion.christian', 'talk.politics.guns',\n",
       "                  'talk.politics.mideast', 'talk.politics.misc',\n",
       "                  'talk.religion.misc'])"
      ]
     },
     "metadata": {},
     "execution_count": 45
    }
   ],
   "metadata": {}
  },
  {
   "cell_type": "code",
   "execution_count": null,
   "source": [],
   "outputs": [],
   "metadata": {}
  },
  {
   "cell_type": "code",
   "execution_count": null,
   "source": [],
   "outputs": [],
   "metadata": {}
  }
 ],
 "metadata": {
  "orig_nbformat": 4,
  "language_info": {
   "name": "python",
   "version": "3.7.7",
   "mimetype": "text/x-python",
   "codemirror_mode": {
    "name": "ipython",
    "version": 3
   },
   "pygments_lexer": "ipython3",
   "nbconvert_exporter": "python",
   "file_extension": ".py"
  },
  "kernelspec": {
   "name": "python3",
   "display_name": "Python 3.7.7 64-bit ('base': conda)"
  },
  "interpreter": {
   "hash": "85496d95f255631b7c777e2712f179e1185d3f79dbd3929a0cd465f2569584c3"
  }
 },
 "nbformat": 4,
 "nbformat_minor": 2
}