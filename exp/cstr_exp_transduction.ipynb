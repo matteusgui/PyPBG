{
 "cells": [
  {
   "cell_type": "code",
   "execution_count": 2,
   "metadata": {},
   "outputs": [],
   "source": [
    "%load_ext autoreload\n",
    "%autoreload 2\n",
    "\n",
    "from pbg import TPBG\n",
    "from scipy.io import arff\n",
    "import pandas as pd\n",
    "from skmultilearn.dataset import load_from_arff\n",
    "import pbg.util\n",
    "from sklearn.feature_extraction.text import TfidfVectorizer\n",
    "from random import randint\n",
    "import numpy as np\n",
    "from sklearn.metrics import confusion_matrix\n",
    "from sklearn.model_selection import train_test_split\n",
    "from sklearn.metrics import f1_score\n"
   ]
  },
  {
   "cell_type": "code",
   "execution_count": 19,
   "metadata": {},
   "outputs": [],
   "source": [
    "csv_file = '/home/thiagodepaulo/exp/text-collections/Sequence_of_words_CSV/CSTR.csv'\n",
    "n_pos = 5\n",
    "k = 10\n"
   ]
  },
  {
   "cell_type": "code",
   "execution_count": 20,
   "metadata": {},
   "outputs": [],
   "source": [
    "loader = pbg.util.Loader()\n",
    "X, y = loader.load_csv(csv_file, text_column='Text', class_column='Class')\n",
    "target_name = list(set(y))\n",
    "n_class = len(target_name)\n",
    "vect = TfidfVectorizer()\n",
    "X = vect.fit_transform(X)\n",
    "\n",
    "model = TPBG(k, alpha=0.05, beta=0.0001, local_max_itr=10,\n",
    "                 global_max_itr=10, local_threshold=1e-6, global_threshold=1e-6,\n",
    "                 save_interval=-1, feature_names=vect.get_feature_names_out(),  \n",
    "                 silence=False)\n"
   ]
  },
  {
   "cell_type": "code",
   "execution_count": 21,
   "metadata": {},
   "outputs": [],
   "source": [
    "# selecionar aleatoriamente uma classe e n_pos exemplo rotulado\n",
    "choosed_cls = target_name[randint(0,n_class-1)]    \n",
    "selected_idx = np.random.choice(np.where( y == choosed_cls)[0], size=n_pos, replace=False)\n",
    "\n",
    "# marcar com -1 todo o restante\n",
    "y_train = np.copy(y)\n",
    "y_train[[i for i in range(len(y)) if i not in selected_idx]] = -1 \n"
   ]
  },
  {
   "cell_type": "code",
   "execution_count": 22,
   "metadata": {},
   "outputs": [],
   "source": [
    "def remove_rows(X, y, idxs):\n",
    "    mask = np.ones(X.shape[0], dtype=bool)\n",
    "    mask[idxs] = False\n",
    "    w = np.flatnonzero(mask)\n",
    "    return X[w], y[w]\n",
    "\n",
    "X_test, y_test = remove_rows(X, y, selected_idx)"
   ]
  },
  {
   "cell_type": "code",
   "execution_count": 23,
   "metadata": {},
   "outputs": [
    {
     "name": "stderr",
     "output_type": "stream",
     "text": [
      "initialing.[]:   : 100%|##########| 1725/1725 [00:00<00:00, 3236.48it/s]\n",
      "docs processed (itr 0): 100%|##########| 299/299 [00:00<00:00, 827.16it/s]\n"
     ]
    },
    {
     "name": "stdout",
     "output_type": "stream",
     "text": [
      "topic 0 [ArtificiallIntelligence] dialogu, speech, plan, train, system, speaker, agent, recognit, word, pronoun\n",
      "topic 1 [None] system, function, problem, languag, plan, object, set, imag, translat, represent\n",
      "topic 2 [None] imag, object, system, control, elect, result, vote, method, resist, algorithm\n",
      "topic 3 [None] system, timegraph, function, reason, represent, set, plan, data, problem, interv\n",
      "topic 4 [None] system, object, scene, imag, problem, shadow, algorithm, index, user, program\n",
      "topic 5 [None] system, manipul, problem, object, algorithm, model, mean, control, task, method\n",
      "topic 6 [None] system, semant, learn, object, set, imag, word, scene, train, model\n",
      "topic 7 [None] object, system, model, view, learn, recognit, imag, train, simul, represent\n",
      "topic 8 [None] model, visual, system, problem, task, elect, algorithm, comput, manipul, recognit\n",
      "topic 9 [None] system, plan, logic, transact, agent, constraint, problem, function, model, implement\n"
     ]
    },
    {
     "name": "stderr",
     "output_type": "stream",
     "text": [
      "docs processed (itr 1): 100%|##########| 299/299 [00:00<00:00, 821.29it/s]\n"
     ]
    },
    {
     "name": "stdout",
     "output_type": "stream",
     "text": [
      "topic 0 [ArtificiallIntelligence] dialogu, speech, pronoun, plan, train, agent, dialog, word, speaker, task\n",
      "topic 1 [None] function, languag, system, problem, translat, plan, complet, class, bayesian, decreas\n",
      "topic 2 [None] elect, imag, control, vote, resist, object, system, result, shape, candid\n",
      "topic 3 [None] system, reason, plan, timegraph, represent, function, interv, relat, set, conflict\n",
      "topic 4 [None] object, user, system, shadow, index, scene, memori, filter, program, imag\n",
      "topic 5 [None] manipul, problem, robot, object, hand, mean, algorithm, system, freedom, control\n",
      "topic 6 [None] semant, scene, system, learn, set, discours, imag, word, featur, train\n",
      "topic 7 [None] object, system, view, recognit, train, simul, model, learn, represent, imag\n",
      "topic 8 [None] visual, model, fixat, signal, predict, task, elect, problem, king, peak\n",
      "topic 9 [None] transact, logic, student, parallel, constraint, nonblock, implement, function, plan, agent\n"
     ]
    },
    {
     "name": "stderr",
     "output_type": "stream",
     "text": [
      "docs processed (itr 2): 100%|##########| 299/299 [00:00<00:00, 829.08it/s]\n"
     ]
    },
    {
     "name": "stdout",
     "output_type": "stream",
     "text": [
      "topic 0 [ArtificiallIntelligence] dialogu, speech, word, plan, agent, pronoun, train, task, dialog, corpu\n",
      "topic 1 [None] function, languag, problem, system, complet, translat, plan, class, reduc, select\n",
      "topic 2 [None] elect, control, vote, imag, resist, alpha, shape, copeland, result, studi\n",
      "topic 3 [None] reason, system, plan, represent, relat, conflict, tempor, interv, set, timegraph\n",
      "topic 4 [None] object, filter, user, memori, kei, imag, shadow, index, scene, system\n",
      "topic 5 [None] robot, manipul, problem, hand, object, control, freedom, task, mean, algorithm\n",
      "topic 6 [None] semant, scene, learn, system, discours, set, imag, featur, word, classifi\n",
      "topic 7 [None] object, recognit, system, view, train, simul, represent, imag, model, learn\n",
      "topic 8 [None] visual, model, predict, fixat, signal, ey, task, respons, cortic, briberi\n",
      "topic 9 [None] transact, parallel, logic, student, program, function, constraint, implement, nonblock, search\n"
     ]
    },
    {
     "name": "stderr",
     "output_type": "stream",
     "text": [
      "docs processed (itr 3): 100%|##########| 299/299 [00:00<00:00, 831.02it/s]\n"
     ]
    },
    {
     "name": "stdout",
     "output_type": "stream",
     "text": [
      "topic 0 [ArtificiallIntelligence] dialogu, speech, word, agent, train, plan, act, pronoun, task, corpu\n",
      "topic 1 [None] function, languag, problem, complet, reduc, class, plan, select, translat, machin\n",
      "topic 2 [None] elect, control, vote, alpha, resist, imag, studi, copeland, shape, candid\n",
      "topic 3 [None] reason, plan, system, represent, tempor, relat, conflict, set, interv, rhet\n",
      "topic 4 [None] filter, object, memori, kei, imag, user, shadow, index, scene, system\n",
      "topic 5 [None] robot, manipul, hand, control, problem, task, freedom, method, object, data\n",
      "topic 6 [None] semant, scene, learn, imag, system, featur, set, discours, classifi, state\n",
      "topic 7 [None] object, recognit, system, view, train, simul, represent, imag, point, track\n",
      "topic 8 [None] visual, model, predict, signal, fixat, neuron, ey, respons, task, cortic\n",
      "topic 9 [None] transact, parallel, program, student, logic, search, implement, function, constraint, nonblock\n"
     ]
    },
    {
     "name": "stderr",
     "output_type": "stream",
     "text": [
      "docs processed (itr 4): 100%|##########| 299/299 [00:00<00:00, 835.98it/s]\n"
     ]
    },
    {
     "name": "stdout",
     "output_type": "stream",
     "text": [
      "topic 0 [ArtificiallIntelligence] word, speech, dialogu, agent, train, act, convers, plan, pronoun, task\n",
      "topic 1 [None] function, languag, problem, reduc, select, complet, class, machin, plan, translat\n",
      "topic 2 [None] elect, vote, control, alpha, studi, voter, resist, complex, briberi, copeland\n",
      "topic 3 [None] reason, plan, system, represent, tempor, relat, conflict, set, interv, rhet\n",
      "topic 4 [None] filter, imag, object, kei, memori, shadow, user, index, real, algorithm\n",
      "topic 5 [None] robot, manipul, control, hand, task, freedom, problem, method, motion, data\n",
      "topic 6 [None] semant, scene, learn, imag, featur, system, classifi, state, classif, label\n",
      "topic 7 [None] object, recognit, system, view, train, imag, simul, point, represent, track\n",
      "topic 8 [None] visual, model, predict, signal, neuron, fixat, ey, cortex, respons, task\n",
      "topic 9 [None] transact, parallel, program, student, search, logic, implement, specul, function, constraint\n"
     ]
    },
    {
     "name": "stderr",
     "output_type": "stream",
     "text": [
      "docs processed (itr 5): 100%|##########| 299/299 [00:00<00:00, 835.30it/s]\n"
     ]
    },
    {
     "name": "stdout",
     "output_type": "stream",
     "text": [
      "topic 0 [ArtificiallIntelligence] word, speech, agent, dialogu, train, act, convers, pronoun, task, languag\n",
      "topic 1 [None] function, languag, problem, reduc, select, class, machin, complet, plan, length\n",
      "topic 2 [None] elect, control, vote, alpha, briberi, voter, studi, complex, polynomi, resist\n",
      "topic 3 [None] reason, plan, system, represent, tempor, relat, conflict, set, interv, rhet\n",
      "topic 4 [None] filter, imag, kei, object, memori, shadow, user, index, real, algorithm\n",
      "topic 5 [None] robot, manipul, control, hand, task, freedom, method, motion, problem, data\n",
      "topic 6 [None] semant, scene, learn, imag, featur, classif, state, classifi, system, label\n",
      "topic 7 [None] object, recognit, system, view, imag, train, point, track, represent, simul\n",
      "topic 8 [None] visual, model, predict, neuron, signal, fixat, ey, cortex, code, neural\n",
      "topic 9 [None] transact, parallel, program, specul, student, search, implement, memori, logic, function\n"
     ]
    },
    {
     "name": "stderr",
     "output_type": "stream",
     "text": [
      "docs processed (itr 6): 100%|##########| 299/299 [00:00<00:00, 834.53it/s]\n"
     ]
    },
    {
     "name": "stdout",
     "output_type": "stream",
     "text": [
      "topic 0 [ArtificiallIntelligence] word, speech, agent, dialogu, train, act, convers, languag, pronoun, corpu\n",
      "topic 1 [None] function, languag, select, reduc, problem, class, machin, decis, length, plan\n",
      "topic 2 [None] elect, control, vote, alpha, briberi, studi, complex, voter, polynomi, manipul\n",
      "topic 3 [None] reason, plan, system, represent, tempor, relat, conflict, set, interv, rhet\n",
      "topic 4 [None] filter, imag, kei, memori, shadow, object, user, index, real, algorithm\n",
      "topic 5 [None] robot, manipul, control, task, hand, freedom, method, motion, skill, degre\n",
      "topic 6 [None] semant, scene, learn, imag, featur, classif, state, classifi, label, system\n",
      "topic 7 [None] object, recognit, system, view, imag, point, train, track, represent, simul\n",
      "topic 8 [None] visual, model, predict, neuron, code, signal, fixat, neural, target, task\n",
      "topic 9 [None] transact, parallel, program, specul, student, implement, search, memori, oper, function\n"
     ]
    },
    {
     "name": "stderr",
     "output_type": "stream",
     "text": [
      "docs processed (itr 7): 100%|##########| 299/299 [00:00<00:00, 834.23it/s]\n"
     ]
    },
    {
     "name": "stdout",
     "output_type": "stream",
     "text": [
      "topic 0 [ArtificiallIntelligence] word, speech, agent, dialogu, act, train, languag, convers, utter, discours\n",
      "topic 1 [None] function, select, languag, reduc, problem, decis, class, machin, length, set\n",
      "topic 2 [None] elect, control, vote, complex, alpha, briberi, studi, polynomi, voter, manipul\n",
      "topic 3 [None] reason, plan, system, represent, tempor, relat, conflict, set, rhet, interv\n",
      "topic 4 [None] filter, imag, kei, shadow, memori, user, real, algorithm, object, environ\n",
      "topic 5 [None] robot, manipul, control, task, hand, freedom, method, skill, motion, degre\n",
      "topic 6 [None] semant, scene, learn, imag, classif, featur, state, label, classifi, system\n",
      "topic 7 [None] object, recognit, imag, system, view, point, train, track, represent, simul\n",
      "topic 8 [None] visual, model, predict, neuron, code, signal, fixat, neural, target, task\n",
      "topic 9 [None] transact, parallel, program, specul, student, implement, memori, oper, search, constraint\n"
     ]
    },
    {
     "name": "stderr",
     "output_type": "stream",
     "text": [
      "docs processed (itr 8): 100%|##########| 299/299 [00:00<00:00, 834.69it/s]\n"
     ]
    },
    {
     "name": "stdout",
     "output_type": "stream",
     "text": [
      "topic 0 [ArtificiallIntelligence] word, speech, agent, dialogu, act, train, languag, discours, convers, utter\n",
      "topic 1 [None] function, select, languag, reduc, decis, problem, set, class, machin, length\n",
      "topic 2 [None] elect, control, vote, complex, studi, alpha, briberi, polynomi, manipul, voter\n",
      "topic 3 [None] reason, plan, system, represent, tempor, relat, conflict, rhet, action, set\n",
      "topic 4 [None] filter, imag, kei, shadow, algorithm, real, user, memori, environ, applic\n",
      "topic 5 [None] robot, manipul, control, task, hand, freedom, method, skill, motion, degre\n",
      "topic 6 [None] scene, semant, learn, imag, classif, featur, label, classifi, state, system\n",
      "topic 7 [None] object, recognit, imag, system, view, point, train, represent, track, featur\n",
      "topic 8 [None] visual, model, predict, neuron, code, signal, neural, fixat, task, target\n",
      "topic 9 [None] transact, parallel, program, specul, student, implement, memori, oper, constraint, nonblock\n"
     ]
    },
    {
     "name": "stderr",
     "output_type": "stream",
     "text": [
      "docs processed (itr 9): 100%|##########| 299/299 [00:00<00:00, 833.62it/s]\n"
     ]
    },
    {
     "name": "stdout",
     "output_type": "stream",
     "text": [
      "topic 0 [ArtificiallIntelligence] word, speech, agent, dialogu, act, train, languag, discours, convers, speaker\n",
      "topic 1 [None] function, select, decis, languag, reduc, problem, set, class, machin, length\n",
      "topic 2 [None] elect, control, vote, complex, studi, manipul, alpha, briberi, polynomi, voter\n",
      "topic 3 [None] reason, plan, system, represent, tempor, relat, conflict, action, rhet, set\n",
      "topic 4 [None] filter, imag, algorithm, real, shadow, user, environ, kei, applic, memori\n",
      "topic 5 [None] robot, manipul, control, task, hand, freedom, method, skill, degre, motion\n",
      "topic 6 [None] scene, semant, learn, imag, classif, featur, label, classifi, state, system\n",
      "topic 7 [None] object, recognit, imag, system, view, point, train, represent, track, featur\n",
      "topic 8 [None] visual, model, predict, code, neuron, neural, signal, fixat, task, cortex\n",
      "topic 9 [None] transact, parallel, program, specul, student, implement, memori, oper, constraint, nonblock\n",
      "[[169   2]\n",
      " [ 84  39]]\n",
      "0.6626395841355411\n",
      "0.7074829931972789\n",
      "0.6363897837091579\n"
     ]
    }
   ],
   "source": [
    "# treinar o modelo\n",
    "model.fit(X, y_train)\n",
    "\n",
    "# classificar os exemplos de teste\n",
    "y_predict = model.predict(X_test)\n",
    "y_predict2 = [ 1 if c == choosed_cls else 0 for c in y_predict]\n",
    "y_test2 = [ 1 if c == choosed_cls else 0 for c in y_test]\n",
    "\n",
    "# calcular a métrica    \n",
    "print(confusion_matrix(y_test2, y_predict2))\n",
    "print(f1_score(y_test2, y_predict2, average='weighted'))\n",
    "print(f1_score(y_test2, y_predict2, average='micro'))\n",
    "print(f1_score(y_test2, y_predict2, average='macro'))\n",
    "\n",
    "# repita n vezes"
   ]
  },
  {
   "cell_type": "code",
   "execution_count": null,
   "metadata": {},
   "outputs": [],
   "source": []
  }
 ],
 "metadata": {
  "interpreter": {
   "hash": "31f2aee4e71d21fbe5cf8b01ff0e069b9275f58929596ceb00d14d90e3e16cd6"
  },
  "kernelspec": {
   "display_name": "Python 3.8.10 64-bit",
   "language": "python",
   "name": "python3"
  },
  "language_info": {
   "codemirror_mode": {
    "name": "ipython",
    "version": 3
   },
   "file_extension": ".py",
   "mimetype": "text/x-python",
   "name": "python",
   "nbconvert_exporter": "python",
   "pygments_lexer": "ipython3",
   "version": "3.8.10"
  },
  "orig_nbformat": 4
 },
 "nbformat": 4,
 "nbformat_minor": 2
}
