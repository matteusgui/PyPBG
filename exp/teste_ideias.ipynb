{
 "cells": [
  {
   "cell_type": "code",
   "execution_count": 1,
   "metadata": {},
   "outputs": [],
   "source": [
    "%load_ext autoreload\n",
    "%autoreload 2\n",
    "\n",
    "from pbg import TPBG\n",
    "from scipy.io import arff\n",
    "import pandas as pd\n",
    "import pbg.util\n",
    "from sklearn.feature_extraction.text import TfidfVectorizer\n",
    "from random import randint\n",
    "import numpy as np\n",
    "from sklearn.metrics import confusion_matrix\n",
    "from sklearn.model_selection import train_test_split\n",
    "from sklearn.metrics import f1_score\n",
    "import sys\n",
    "from sklearn.metrics import classification_report\n",
    "from pbg.util import Params\n"
   ]
  },
  {
   "cell_type": "code",
   "execution_count": 2,
   "metadata": {},
   "outputs": [
    {
     "data": {
      "application/vnd.jupyter.widget-view+json": {
       "model_id": "451256ca903a4ccfbf413bf0481880a3",
       "version_major": 2,
       "version_minor": 0
      },
      "text/plain": [
       "docs processed (itr 0):   0%|          | 0/18828 [00:00<?, ?it/s]"
      ]
     },
     "metadata": {},
     "output_type": "display_data"
    },
    {
     "name": "stdout",
     "output_type": "stream",
     "text": [
      "topic 0 [None] articl, thing, system, time, subject, win, engin, number, error, servic\n",
      "topic 1 [None] write, find, model, read, david, year, arm, problem, peopl, don\n",
      "topic 2 [None] work, univers, write, don, phone, stanford, chip, problem, port, org\n",
      "topic 3 [None] card, plai, good, articl, thing, sale, game, steve, work, font\n",
      "topic 4 [None] write, car, mac, line, address, back, type, give, nasa, subject\n",
      "topic 5 [None] window, point, subject, system, claim, israel, detector, christian, find, make\n",
      "topic 6 [None] mail, comput, peopl, window, christian, year, driver, read, work, bike\n",
      "topic 7 [None] game, kei, price, question, interest, point, year, chip, answer, info\n",
      "topic 8 [None] monitor, problem, netcom, net, subject, card, wrote, access, write, atheist\n",
      "topic 9 [None] file, apr, god, drive, articl, peopl, run, new, long, home\n",
      "topic 10 [None] drive, moral, apr, articl, state, subject, work, encrypt, god, space\n",
      "topic 11 [None] subject, program, public, run, problem, number, world, henri, reason, law\n",
      "topic 12 [None] write, articl, question, don, subject, game, good, window, car, exist\n",
      "topic 13 [None] write, god, don, window, bit, gun, system, work, chip, includ\n",
      "topic 14 [None] post, don, ibm, question, write, time, window, player, subject, game\n",
      "topic 15 [None] peopl, uiuc, sourc, subject, hard, new, govern, softwar, work, disk\n",
      "topic 16 [None] list, don, post, war, good, car, john, find, david, code\n",
      "topic 17 [None] time, articl, peopl, don, good, subject, base, system, god, power\n",
      "topic 18 [None] dai, gun, mode, scsi, system, turn, live, kill, god, gener\n",
      "topic 19 [None] write, subject, peopl, christian, mike, caltech, mark, do, articl, set\n"
     ]
    },
    {
     "data": {
      "application/vnd.jupyter.widget-view+json": {
       "model_id": "413040396723407a8e7249ed258148b0",
       "version_major": 2,
       "version_minor": 0
      },
      "text/plain": [
       "docs processed (itr 1):   0%|          | 0/18828 [00:00<?, ?it/s]"
      ]
     },
     "metadata": {},
     "output_type": "display_data"
    },
    {
     "name": "stdout",
     "output_type": "stream",
     "text": [
      "topic 0 [None] articl, system, thing, time, subject, win, engin, error, file, servic\n",
      "topic 1 [None] write, model, find, read, year, david, arm, peopl, problem, book\n",
      "topic 2 [None] port, work, stanford, phone, univers, chip, don, write, problem, org\n",
      "topic 3 [None] card, plai, font, good, game, articl, sale, thing, appl, work\n",
      "topic 4 [None] car, mac, write, line, address, scsi, nasa, subject, type, program\n",
      "topic 5 [None] window, point, system, subject, claim, detector, christian, atheist, israel, sandvik\n",
      "topic 6 [None] mail, window, comput, driver, peopl, christian, bike, year, tape, fire\n",
      "topic 7 [None] kei, game, price, chip, question, interest, steve, do, info, encrypt\n",
      "topic 8 [None] monitor, problem, netcom, subject, net, access, write, wrote, atheist, player\n",
      "topic 9 [None] file, apr, articl, drive, god, peopl, run, window, home, new\n",
      "topic 10 [None] drive, moral, god, jesu, apr, articl, state, bibl, law, object\n",
      "topic 11 [None] subject, program, henri, public, run, world, homosexu, problem, koresh, number\n",
      "topic 12 [None] write, question, articl, don, game, subject, good, scienc, palestinian, exist\n",
      "topic 13 [None] write, god, don, bit, chip, gun, window, system, work, hit\n",
      "topic 14 [None] post, ibm, don, question, player, write, time, jim, subject, window\n",
      "topic 15 [None] peopl, uiuc, hard, govern, sourc, armenian, subject, new, softwar, disk\n",
      "topic 16 [None] list, don, war, post, good, car, state, david, john, ac\n",
      "topic 17 [None] time, peopl, don, articl, good, subject, base, god, cramer, love\n",
      "topic 18 [None] dai, gun, scsi, mode, kill, turn, live, system, subject, david\n",
      "topic 19 [None] write, subject, mous, caltech, peopl, mike, espn, mark, orbit, do\n"
     ]
    },
    {
     "data": {
      "application/vnd.jupyter.widget-view+json": {
       "model_id": "48796240e9f94840b140fca4a6e8eaf5",
       "version_major": 2,
       "version_minor": 0
      },
      "text/plain": [
       "docs processed (itr 2):   0%|          | 0/18828 [00:00<?, ?it/s]"
      ]
     },
     "metadata": {},
     "output_type": "display_data"
    },
    {
     "name": "stdout",
     "output_type": "stream",
     "text": [
      "topic 0 [None] system, articl, win, engin, time, subject, thing, error, window, file\n",
      "topic 1 [None] model, write, find, read, dog, year, nec, arm, david, book\n",
      "topic 2 [None] port, stanford, work, phone, serial, univers, write, chip, don, problem\n",
      "topic 3 [None] card, font, plai, game, sale, appl, good, printer, articl, displai\n",
      "topic 4 [None] mac, car, scsi, write, disk, line, address, nasa, board, subject\n",
      "topic 5 [None] window, point, sandvik, claim, detector, atheist, system, subject, christian, radar\n",
      "topic 6 [None] mail, window, driver, comput, bike, tape, buffalo, fire, max, peopl\n",
      "topic 7 [None] kei, chip, encrypt, price, game, steve, do, bit, secur, question\n",
      "topic 8 [None] monitor, problem, subject, access, doug, netcom, net, keyboard, basebal, player\n",
      "topic 9 [None] file, articl, apr, peopl, drive, window, run, god, do, home\n",
      "topic 10 [None] god, moral, drive, jesu, christian, bibl, law, articl, object, religion\n",
      "topic 11 [None] program, henri, subject, homosexu, koresh, public, adam, run, arab, cso\n",
      "topic 12 [None] write, game, question, articl, don, subject, scienc, palestinian, green, good\n",
      "topic 13 [None] write, don, god, chip, clipper, tax, system, xterm, bit, brian\n",
      "topic 14 [None] post, ibm, don, player, jim, question, subject, stat, write, time\n",
      "topic 15 [None] uiuc, armenian, peopl, govern, hard, sourc, new, subject, softwar, boni\n",
      "topic 16 [None] list, war, don, ac, post, state, ohio, good, david, magnu\n",
      "topic 17 [None] time, peopl, cramer, don, articl, good, love, base, team, god\n",
      "topic 18 [None] gun, dai, mode, scsi, kill, turn, weapon, cop, netcom, subject\n",
      "topic 19 [None] mous, subject, espn, write, caltech, mike, orbit, mark, rai, mari\n"
     ]
    },
    {
     "data": {
      "application/vnd.jupyter.widget-view+json": {
       "model_id": "650e799e1e59490ebbdb1fe7c317fdd9",
       "version_major": 2,
       "version_minor": 0
      },
      "text/plain": [
       "docs processed (itr 3):   0%|          | 0/18828 [00:00<?, ?it/s]"
      ]
     },
     "metadata": {},
     "output_type": "display_data"
    },
    {
     "name": "stdout",
     "output_type": "stream",
     "text": [
      "topic 0 [None] system, win, engin, articl, subject, window, time, error, icon, file\n",
      "topic 1 [None] model, dog, write, nec, find, year, behanna, read, articl, arm\n",
      "topic 2 [None] port, stanford, serial, work, phone, upenn, write, joe, subject, don\n",
      "topic 3 [None] card, game, font, plai, sale, printer, displai, appl, vga, video\n",
      "topic 4 [None] car, mac, drive, scsi, disk, board, program, address, line, subject\n",
      "topic 5 [None] sandvik, atheist, detector, point, claim, livesei, radar, kent, window, islam\n",
      "topic 6 [None] window, mail, driver, bike, buffalo, tape, max, comput, fire, start\n",
      "topic 7 [None] kei, chip, encrypt, clipper, price, secur, bit, steve, escrow, phone\n",
      "topic 8 [None] monitor, problem, keyboard, doug, subject, imag, access, basebal, net, player\n",
      "topic 9 [None] file, window, articl, peopl, apr, do, drive, run, write, usc\n",
      "topic 10 [None] god, christian, jesu, moral, bibl, religion, law, peopl, christ, write\n",
      "topic 11 [None] henri, program, subject, koresh, adam, arab, israel, spencer, homosexu, umd\n",
      "topic 12 [None] game, write, question, articl, don, subject, green, scienc, palestinian, hst\n",
      "topic 13 [None] write, tax, don, xterm, clipper, govern, wiretap, fbi, bike, brian\n",
      "topic 14 [None] ibm, post, player, jim, don, stat, subject, roger, question, group\n",
      "topic 15 [None] uiuc, armenian, peopl, govern, cso, boni, sourc, hard, turkish, jake\n",
      "topic 16 [None] list, war, ohio, ac, state, magnu, don, david, good, post\n",
      "topic 17 [None] time, peopl, cramer, team, don, homosexu, articl, good, optilink, clayton\n",
      "topic 18 [None] gun, dai, weapon, kill, cop, mode, firearm, turn, netcom, subject\n",
      "topic 19 [None] mous, espn, caltech, subject, mike, rai, food, mark, orbit, write\n"
     ]
    },
    {
     "data": {
      "application/vnd.jupyter.widget-view+json": {
       "model_id": "e0359490ac3e462cb3dd3e3ad51e3a1f",
       "version_major": 2,
       "version_minor": 0
      },
      "text/plain": [
       "docs processed (itr 4):   0%|          | 0/18828 [00:00<?, ?it/s]"
      ]
     },
     "metadata": {},
     "output_type": "display_data"
    },
    {
     "name": "stdout",
     "output_type": "stream",
     "text": [
      "topic 0 [None] win, system, engin, window, subject, error, icon, widget, file, articl\n",
      "topic 1 [None] dog, model, nec, write, behanna, leaf, year, articl, insur, apr\n",
      "topic 2 [None] port, stanford, upenn, serial, fan, gatech, subject, phone, work, csd\n",
      "topic 3 [None] card, game, font, displai, printer, video, sale, color, plai, appl\n",
      "topic 4 [None] drive, car, mac, scsi, disk, program, board, subject, work, format\n",
      "topic 5 [None] sandvik, kent, livesei, detector, jon, islam, atheist, radar, claim, point\n",
      "topic 6 [None] window, mail, driver, bike, buffalo, tape, max, fire, comput, start\n",
      "topic 7 [None] kei, chip, encrypt, clipper, secur, phone, escrow, price, bit, steve\n",
      "topic 8 [None] monitor, imag, keyboard, problem, doug, access, subject, gif, basebal, color\n",
      "topic 9 [None] file, window, do, articl, isc, peopl, apr, usc, write, run\n",
      "topic 10 [None] god, christian, jesu, moral, bibl, peopl, religion, christ, sin, write\n",
      "topic 11 [None] henri, program, koresh, israel, adam, arab, umd, toronto, spencer, zoo\n",
      "topic 12 [None] game, green, articl, write, scienc, question, space, hst, don, subject\n",
      "topic 13 [None] tax, write, fbi, govern, xterm, don, netcom, org, bike, david\n",
      "topic 14 [None] ibm, post, player, jim, roger, stat, microsoft, subject, don, group\n",
      "topic 15 [None] uiuc, armenian, cso, peopl, turkish, govern, jew, muslim, israel, boni\n",
      "topic 16 [None] ohio, ac, list, state, war, magnu, david, don, john, good\n",
      "topic 17 [None] team, cramer, peopl, time, homosexu, gai, optilink, year, don, pitt\n",
      "topic 18 [None] gun, weapon, dai, firearm, kill, cop, crime, bmw, drug, turn\n",
      "topic 19 [None] mous, espn, food, rai, mike, mark, caltech, subject, game, orbit\n"
     ]
    },
    {
     "data": {
      "application/vnd.jupyter.widget-view+json": {
       "model_id": "f6c1a5604d294532b435ca02fe164fee",
       "version_major": 2,
       "version_minor": 0
      },
      "text/plain": [
       "docs processed (itr 5):   0%|          | 0/18828 [00:00<?, ?it/s]"
      ]
     },
     "metadata": {},
     "output_type": "display_data"
    },
    {
     "name": "stdout",
     "output_type": "stream",
     "text": [
      "topic 0 [None] window, win, engin, system, widget, motif, file, icon, error, subject\n",
      "topic 1 [None] dog, nec, model, write, leaf, behanna, insur, kevin, articl, bnr\n",
      "topic 2 [None] port, stanford, fan, gatech, upenn, power, subject, csd, batteri, radio\n",
      "topic 3 [None] card, font, video, displai, color, printer, game, sale, bit, vga\n",
      "topic 4 [None] drive, car, mac, disk, scsi, program, work, board, subject, format\n",
      "topic 5 [None] sandvik, kent, jon, livesei, detector, islam, keith, radar, sgi, newton\n",
      "topic 6 [None] window, bike, driver, mail, buffalo, tape, max, fire, subject, duo\n",
      "topic 7 [None] kei, chip, encrypt, clipper, secur, phone, escrow, algorithm, system, govern\n",
      "topic 8 [None] monitor, imag, keyboard, gif, access, doug, subject, digex, problem, color\n",
      "topic 9 [None] file, window, do, isc, usc, articl, write, dseg, run, peopl\n",
      "topic 10 [None] god, christian, jesu, moral, peopl, bibl, religion, church, sin, christ\n",
      "topic 11 [None] henri, koresh, adam, israel, umd, toronto, program, arab, spencer, zoo\n",
      "topic 12 [None] space, game, green, orbit, mission, hst, scienc, shuttl, scott, articl\n",
      "topic 13 [None] tax, fbi, write, govern, xterm, batf, netcom, don, clinton, court\n",
      "topic 14 [None] ibm, player, post, jim, roger, stat, microsoft, maynard, group, subject\n",
      "topic 15 [None] uiuc, armenian, cso, isra, israel, jew, muslim, peopl, turkish, govern\n",
      "topic 16 [None] ohio, ac, list, state, magnu, war, cup, david, john, don\n",
      "topic 17 [None] team, cramer, year, homosexu, game, pitt, gai, pitch, optilink, peopl\n",
      "topic 18 [None] gun, weapon, firearm, kill, cop, peopl, crime, drug, dai, law\n",
      "topic 19 [None] mous, espn, game, food, rai, msg, mike, nasa, mark, gov\n"
     ]
    },
    {
     "data": {
      "application/vnd.jupyter.widget-view+json": {
       "model_id": "a43f2ac6930e45dc9a8b6fd747e4a9d4",
       "version_major": 2,
       "version_minor": 0
      },
      "text/plain": [
       "docs processed (itr 6):   0%|          | 0/18828 [00:00<?, ?it/s]"
      ]
     },
     "metadata": {},
     "output_type": "display_data"
    },
    {
     "name": "stdout",
     "output_type": "stream",
     "text": [
      "topic 0 [None] window, motif, widget, engin, win, system, file, ftp, librari, program\n",
      "topic 1 [None] dog, nec, leaf, behanna, write, kevin, bnr, insur, model, articl\n",
      "topic 2 [None] stanford, port, gatech, fan, upenn, power, batteri, radio, csd, subject\n",
      "topic 3 [None] card, video, color, font, displai, printer, bit, screen, window, vga\n",
      "topic 4 [None] drive, mac, car, disk, scsi, system, problem, id, work, hard\n",
      "topic 5 [None] sandvik, kent, keith, jon, livesei, detector, islam, sgi, radar, newton\n",
      "topic 6 [None] window, bike, driver, mail, buffalo, max, tape, fire, subject, duo\n",
      "topic 7 [None] kei, chip, encrypt, clipper, secur, phone, algorithm, escrow, govern, system\n",
      "topic 8 [None] monitor, imag, gif, keyboard, access, doug, digex, subject, pat, color\n",
      "topic 9 [None] file, do, window, isc, usc, dseg, write, run, directori, articl\n",
      "topic 10 [None] god, christian, jesu, moral, peopl, bibl, religion, church, sin, christ\n",
      "topic 11 [None] henri, koresh, umd, adam, toronto, israel, spencer, zoo, write, arab\n",
      "topic 12 [None] space, orbit, green, shuttl, mission, game, scott, nasa, hst, scienc\n",
      "topic 13 [None] tax, fbi, govern, batf, clinton, write, xterm, helmet, court, bill\n",
      "topic 14 [None] ibm, player, post, jim, roger, microsoft, stat, maynard, group, subject\n",
      "topic 15 [None] uiuc, armenian, isra, israel, cso, jew, muslim, turkish, peopl, arab\n",
      "topic 16 [None] ohio, ac, list, state, magnu, war, cup, rick, john, portal\n",
      "topic 17 [None] team, game, year, cramer, pitt, hit, pitch, homosexu, gai, optilink\n",
      "topic 18 [None] gun, weapon, peopl, firearm, law, kill, cop, crime, drug, polic\n",
      "topic 19 [None] game, mous, espn, msg, food, rai, mike, nasa, playoff, hockei\n"
     ]
    },
    {
     "data": {
      "application/vnd.jupyter.widget-view+json": {
       "model_id": "0b21db1032444c529713499fc487b255",
       "version_major": 2,
       "version_minor": 0
      },
      "text/plain": [
       "docs processed (itr 7):   0%|          | 0/18828 [00:00<?, ?it/s]"
      ]
     },
     "metadata": {},
     "output_type": "display_data"
    },
    {
     "name": "stdout",
     "output_type": "stream",
     "text": [
      "topic 0 [None] window, motif, widget, program, applic, server, file, ftp, librari, graphic\n",
      "topic 1 [None] dog, nec, behanna, leaf, kevin, bnr, insur, write, ecn, articl\n",
      "topic 2 [None] stanford, gatech, port, fan, batteri, power, upenn, radio, subject, csd\n",
      "topic 3 [None] card, video, color, font, printer, displai, bit, window, screen, driver\n",
      "topic 4 [None] drive, mac, disk, car, scsi, system, sale, id, hard, problem\n",
      "topic 5 [None] sandvik, keith, jon, kent, livesei, islam, detector, sgi, radar, newton\n",
      "topic 6 [None] bike, window, driver, mail, buffalo, max, tape, subject, motorcycl, ride\n",
      "topic 7 [None] kei, chip, encrypt, clipper, secur, phone, govern, algorithm, escrow, system\n",
      "topic 8 [None] monitor, imag, gif, keyboard, access, digex, subject, doug, pat, color\n",
      "topic 9 [None] file, do, window, isc, usc, dseg, directori, run, write, program\n",
      "topic 10 [None] god, christian, jesu, bibl, peopl, moral, church, religion, sin, christ\n",
      "topic 11 [None] henri, koresh, umd, toronto, adam, spencer, zoo, write, israel, articl\n",
      "topic 12 [None] space, orbit, nasa, shuttl, mission, green, earth, alaska, hst, scienc\n",
      "topic 13 [None] tax, fbi, clinton, batf, govern, write, helmet, waco, xterm, bill\n",
      "topic 14 [None] ibm, player, roger, jim, microsoft, post, maynard, stat, group, subject\n",
      "topic 15 [None] uiuc, armenian, israel, isra, cso, jew, muslim, arab, turkish, peopl\n",
      "topic 16 [None] ohio, ac, list, state, magnu, war, cup, portal, rick, john\n",
      "topic 17 [None] team, game, year, cramer, hit, pitt, pitch, player, gai, homosexu\n",
      "topic 18 [None] gun, weapon, peopl, law, firearm, car, kill, cop, polic, crime\n",
      "topic 19 [None] game, mous, espn, msg, playoff, food, hockei, mike, gov, nasa\n"
     ]
    },
    {
     "data": {
      "application/vnd.jupyter.widget-view+json": {
       "model_id": "f3ad43688ec145b6ae8e28e5aa16f46a",
       "version_major": 2,
       "version_minor": 0
      },
      "text/plain": [
       "docs processed (itr 8):   0%|          | 0/18828 [00:00<?, ?it/s]"
      ]
     },
     "metadata": {},
     "output_type": "display_data"
    },
    {
     "name": "stdout",
     "output_type": "stream",
     "text": [
      "topic 0 [None] window, program, motif, server, widget, applic, graphic, ftp, file, librari\n",
      "topic 1 [None] dog, nec, behanna, bnr, kevin, ecn, insur, leaf, write, articl\n",
      "topic 2 [None] stanford, gatech, batteri, power, fan, upenn, radio, prism, subject, csd\n",
      "topic 3 [None] card, video, color, font, printer, driver, bit, window, displai, screen\n",
      "topic 4 [None] drive, disk, mac, scsi, car, sale, id, system, hard, problem\n",
      "topic 5 [None] keith, sandvik, jon, kent, livesei, islam, detector, sgi, newton, radar\n",
      "topic 6 [None] bike, window, max, buffalo, driver, mail, tape, ride, motorcycl, dod\n",
      "topic 7 [None] kei, chip, encrypt, clipper, secur, govern, phone, algorithm, escrow, system\n",
      "topic 8 [None] monitor, imag, gif, keyboard, access, digex, subject, pat, doug, color\n",
      "topic 9 [None] file, do, window, isc, program, run, directori, usc, dseg, write\n",
      "topic 10 [None] god, christian, jesu, bibl, peopl, church, religion, moral, sin, christ\n",
      "topic 11 [None] henri, umd, koresh, toronto, adam, spencer, zoo, write, articl, virginia\n",
      "topic 12 [None] space, nasa, orbit, shuttl, mission, green, earth, gov, launch, alaska\n",
      "topic 13 [None] fbi, tax, clinton, batf, govern, waco, write, helmet, fire, articl\n",
      "topic 14 [None] ibm, player, roger, microsoft, jim, post, maynard, stat, group, subject\n",
      "topic 15 [None] uiuc, armenian, israel, isra, cso, jew, muslim, arab, turkish, peopl\n",
      "topic 16 [None] ac, ohio, list, state, magnu, cup, portal, war, rick, john\n",
      "topic 17 [None] team, game, year, cramer, hit, pitch, pitt, player, gai, homosexu\n",
      "topic 18 [None] gun, weapon, peopl, law, car, firearm, kill, polic, don, crime\n",
      "topic 19 [None] game, mous, espn, playoff, hockei, msg, food, plai, team, mike\n"
     ]
    },
    {
     "data": {
      "application/vnd.jupyter.widget-view+json": {
       "model_id": "a1ee24b907f6460796d0ad08e847e2d0",
       "version_major": 2,
       "version_minor": 0
      },
      "text/plain": [
       "docs processed (itr 9):   0%|          | 0/18828 [00:00<?, ?it/s]"
      ]
     },
     "metadata": {},
     "output_type": "display_data"
    },
    {
     "name": "stdout",
     "output_type": "stream",
     "text": [
      "topic 0 [None] window, program, server, motif, applic, graphic, widget, run, file, librari\n",
      "topic 1 [None] dog, bnr, ecn, behanna, nec, insur, kevin, doctor, write, articl\n",
      "topic 2 [None] stanford, gatech, batteri, power, upenn, radio, fan, prism, subject, csd\n",
      "topic 3 [None] card, video, color, driver, printer, font, bit, window, simm, screen\n",
      "topic 4 [None] drive, disk, scsi, mac, car, sale, id, hard, system, control\n",
      "topic 5 [None] keith, sandvik, jon, kent, livesei, islam, detector, caltech, sgi, newton\n",
      "topic 6 [None] bike, max, ride, buffalo, dod, motorcycl, window, mail, tape, driver\n",
      "topic 7 [None] kei, chip, encrypt, clipper, secur, govern, phone, escrow, algorithm, public\n",
      "topic 8 [None] monitor, imag, gif, keyboard, access, digex, subject, pat, doug, color\n",
      "topic 9 [None] file, window, do, isc, program, run, directori, format, dseg, win\n",
      "topic 10 [None] god, christian, jesu, bibl, church, peopl, religion, sin, moral, christ\n",
      "topic 11 [None] henri, umd, toronto, koresh, adam, spencer, zoo, write, virginia, articl\n",
      "topic 12 [None] space, nasa, orbit, gov, shuttl, mission, launch, earth, moon, green\n",
      "topic 13 [None] fbi, tax, clinton, batf, fire, waco, govern, write, ga, peopl\n",
      "topic 14 [None] ibm, player, roger, microsoft, maynard, post, jim, stat, uga, group\n",
      "topic 15 [None] uiuc, armenian, israel, isra, jew, cso, muslim, arab, turkish, peopl\n",
      "topic 16 [None] ac, ohio, list, state, magnu, portal, cup, rick, john, articl\n",
      "topic 17 [None] team, game, year, cramer, hit, pitch, player, pitt, gai, homosexu\n",
      "topic 18 [None] gun, peopl, weapon, law, car, firearm, polic, kill, don, crime\n",
      "topic 19 [None] game, hockei, espn, playoff, team, plai, msg, mous, food, fan\n"
     ]
    },
    {
     "data": {
      "text/plain": [
       "TPBG(alpha=0.005,\n",
       "     feature_names=array(['aa', 'aaa', 'aaaaa', ..., 'zzo', 'zzr', 'zzzzzz'], dtype=object),\n",
       "     global_max_itr=10.0, local_max_itr=10.0, n_components=20)"
      ]
     },
     "execution_count": 2,
     "metadata": {},
     "output_type": "execute_result"
    }
   ],
   "source": [
    "\n",
    "args = [None, '/home/thiagodepaulo/exp/text-collections/Sequence_of_words_CSV/20ng.csv', '30', '20', '10', '10', '0.005', '0.0001']\n",
    "# param = Params(args[0])\n",
    "# csv_file = \"/home/thiagodepaulo/exp/text-collections/Sequence_of_words_CSV/CSTR.csv\"\n",
    "# n_pos = 5\n",
    "# k = 4\n",
    "# local_itr = 10\n",
    "# global_itr = 10\n",
    "# alpha = 0.05\n",
    "# beta = 0.0001\n",
    "csv_file = args[1]\n",
    "n_pos = int(args[2])\n",
    "k = int(args[3])\n",
    "local_itr = float(args[4])\n",
    "global_itr = float(args[5])\n",
    "alpha = float(args[6])\n",
    "beta = float(args[7])\n",
    "\n",
    "loader = pbg.util.Loader()\n",
    "X, y = loader.load_csv(csv_file, text_column=\"Text\", class_column=\"Class\")\n",
    "vect = TfidfVectorizer()\n",
    "X = vect.fit_transform(X)\n",
    "\n",
    "model = TPBG(\n",
    "    k,\n",
    "    alpha=alpha,\n",
    "    beta=beta,\n",
    "    local_max_itr=local_itr,\n",
    "    global_max_itr=global_itr,\n",
    "    local_threshold=1e-6,\n",
    "    global_threshold=1e-6,\n",
    "    save_interval=-1,\n",
    "    feature_names=vect.get_feature_names_out(),\n",
    "    silence=False,\n",
    ")\n",
    "\n",
    "# treinar o modelo\n",
    "model.unsupervised_fit(X)"
   ]
  },
  {
   "cell_type": "code",
   "execution_count": 4,
   "metadata": {},
   "outputs": [
    {
     "name": "stdout",
     "output_type": "stream",
     "text": [
      "18828\n",
      "[-130.84092579 -114.0508603  -126.11113654 -130.25470846 -123.17598053\n",
      "  -77.51165976 -120.72794895 -117.86561573 -121.11420485 -118.20385875\n",
      "    3.0840424   -73.95081285 -126.11275441  -97.79365368 -110.73225042\n",
      " -108.11334142 -122.42375729 -111.42328932  -96.91837016 -117.32669907]\n",
      "talk_religion_misc 10\n",
      "10\n",
      "171\n",
      "178\n",
      "Counter({'soc_religion_christian': 105, 'talk_religion_misc': 36, 'alt_atheism': 35, 'talk_politics_misc': 2})\n",
      "Counter({'talk_politic_guns': 18, 'talk_politics_misc': 17, 'rec_sport_hockey': 17, 'sci_med': 15, 'comp_os_ms-windows_misc': 14, 'sci_crypt': 12, 'misc_forsale': 12, 'sci_space': 9, 'talk_politics_mideast': 9, 'sci_electronics': 8, 'alt_atheism': 8, 'rec_sport_baseball': 8, 'comp_graphics': 5, 'comp_windows_x': 5, 'comp_sys_ibm_pc_hardware': 4, 'comp_sys_mac_hardware': 4, 'rec_autos': 3, 'rec_motorcycles': 2, 'talk_religion_misc': 1})\n"
     ]
    }
   ],
   "source": [
    "import functools\n",
    "import operator\n",
    "\n",
    "def most_prob_idx(A):\n",
    "    A = np.squeeze(A)\n",
    "    if A.ndim == 2:\n",
    "        A = np.sum(A, axis=0) \n",
    "    print(A)\n",
    "    return np.argmax(A)\n",
    "\n",
    "\n",
    "def split_neg_pos(A, id_cls, p=0.1):\n",
    "    r = np.argmax(A, axis=1) # list of top topics per documents    \n",
    "    m = A[np.arange(A.shape[0]), r]  # list of values\n",
    "    d = {}\n",
    "    for doc_id, k in enumerate(r):\n",
    "        l = d.get(k,[])\n",
    "        if len(l) == 0:\n",
    "            d[k] = l\n",
    "        l.append((doc_id, m[doc_id]))\n",
    "    n = int(np.sum(r == id_cls) * p) # p% of documents of class choosed_cls\n",
    "    pos = [ xx[0] for xx in sorted(d[id_cls], key=lambda x: x[1], reverse=True)]\n",
    "    pos = pos[:n]\n",
    "    num_dim = len(d.keys()) - 1\n",
    "    n_resto = max(1,int(n / num_dim ))\n",
    "    neg = [ sorted(d[k], key=lambda x: x[1], reverse=True)[:n_resto]  for k in d.keys() if k != id_cls]\n",
    "    neg = [x[0] for subx in neg for x in subx]    \n",
    "    return (pos,neg)\n",
    "\n",
    "target_name = list(set(y))\n",
    "n_class = len(target_name)\n",
    "n_docs = X.shape[0]\n",
    "print(n_docs)\n",
    "\n",
    "# selecionar aleatoriamente uma classe e n_pos exemplo rotulado\n",
    "choosed_cls = target_name[randint(0, n_class - 1)]\n",
    "selected_docs = np.random.choice(\n",
    "    np.where(y == choosed_cls)[0], size=n_pos, replace=False\n",
    ") \n",
    "\n",
    "# most probable topic index\n",
    "prob_topic_idx = most_prob_idx(model.log_A[selected_docs])\n",
    "print(choosed_cls, prob_topic_idx)\n",
    "print(prob_topic_idx)\n",
    "pos, neg = split_neg_pos(model.log_A, prob_topic_idx)\n",
    "print(len(neg))\n",
    "print(len(pos))\n",
    "\n",
    "from collections import Counter\n",
    "print(Counter(y[pos]))\n",
    "print(Counter(y[neg]))"
   ]
  },
  {
   "cell_type": "code",
   "execution_count": 13,
   "metadata": {},
   "outputs": [
    {
     "name": "stdout",
     "output_type": "stream",
     "text": [
      "(18828, 45433) (204, 45433) (190, 45433) (394, 45433)\n"
     ]
    }
   ],
   "source": [
    "from scipy.sparse import vstack\n",
    "\n",
    "X_ = vstack((X[pos], X[neg]))\n",
    "print(X.shape, X[pos].shape, X[neg].shape, X_.shape)\n",
    "\n"
   ]
  },
  {
   "cell_type": "code",
   "execution_count": 5,
   "metadata": {},
   "outputs": [
    {
     "data": {
      "text/plain": [
       "((342, 20), 342)"
      ]
     },
     "execution_count": 5,
     "metadata": {},
     "output_type": "execute_result"
    }
   ],
   "source": [
    "from sklearn.svm import SVC\n",
    "from sklearn.naive_bayes import MultinomialNB\n",
    "\n",
    "X2 = np.concatenate((model.log_A[pos], model.log_A[neg]), axis=0)\n",
    "y2 = [1]*len(pos) + [-1]*len(neg)\n",
    "\n",
    "X2.shape, len(y2)"
   ]
  },
  {
   "cell_type": "code",
   "execution_count": 8,
   "metadata": {},
   "outputs": [
    {
     "data": {
      "text/plain": [
       "349"
      ]
     },
     "execution_count": 8,
     "metadata": {},
     "output_type": "execute_result"
    }
   ],
   "source": [
    "len(np.concatenate((y[pos], y[neg])))"
   ]
  },
  {
   "cell_type": "code",
   "execution_count": 37,
   "metadata": {},
   "outputs": [
    {
     "name": "stdout",
     "output_type": "stream",
     "text": [
      "18828\n",
      "[-75.36305583 -76.9291205  -64.0890023  -67.22927883 -67.54691961\n",
      " -71.4713454  -80.18521015 -73.93884955 -75.72074339 -55.03658146\n",
      " -68.27928614 -65.72778827 -76.43915009 -72.25826351 -77.7296568\n",
      " -80.7342782  -79.66702859 -82.29548471 -64.40012421 -86.2495525\n",
      " -69.0439641  -71.59656359 -78.48828751 -65.93930373 -70.78338159\n",
      " -71.82178305 -86.08464203 -68.04648138 -79.35838811 -60.06351523]\n",
      "comp_sys_mac_hardware 9\n",
      "(18828, 20)\n",
      "{-1: -1, 'comp_sys_mac_hardware': 9}\n"
     ]
    },
    {
     "name": "stderr",
     "output_type": "stream",
     "text": [
      "docs processed (itr 0): 100%|##########| 18828/18828 [00:27<00:00, 677.47it/s]\n"
     ]
    },
    {
     "name": "stdout",
     "output_type": "stream",
     "text": [
      "topic 0 [None] kei, encrypt, chip, clipper, secur, govern, escrow, algorithm, phone, netcom\n",
      "topic 1 [None] file, program, server, ftp, graphic, sun, displai, format, mail, imag\n",
      "topic 2 [None] andrew, bob, cmu, detector, radar, ohio, radio, toni, subject, ac\n",
      "topic 3 [None] window, do, henri, cramer, microsoft, program, file, gai, run, optilink\n",
      "topic 4 [None] drive, disk, scsi, id, hard, floppi, control, tape, problem, do\n",
      "topic 5 [None] uiuc, cso, uxa, sky, write, cobb, polygon, chuck, gvg, new\n",
      "topic 6 [None] monitor, sale, appl, price, mac, power, engin, comput, subject, offer\n",
      "topic 7 [None] insur, health, doctor, columbia, medic, umd, food, gari, gld, inform\n",
      "topic 8 [None] fire, fbi, koresh, batf, govern, waco, peopl, atf, children, stratu\n",
      "topic 9 [comp_sys_mac_hardware] pat, imag, orbit, space, digex, list, mission, access, nasa, model\n",
      "topic 10 [None] car, armenian, turkish, msg, armenia, turk, turkei, dealer, serdar, peopl\n",
      "topic 11 [None] game, team, player, plai, hockei, year, fan, win, basebal, season\n",
      "topic 12 [None] bike, gun, ride, dod, bmw, motorcycl, articl, write, don, dog\n",
      "topic 13 [None] moral, sandvik, islam, muslim, kent, pitt, object, bank, gordon, livesei\n",
      "topic 14 [None] brian, michael, chri, georgia, utexa, uga, ibm, behanna, write, articl\n",
      "topic 15 [None] space, mhz, font, max, cpu, board, mark, acceler, clock, motherboard\n",
      "topic 16 [None] card, video, bit, port, mous, driver, simm, keith, mode, bu\n",
      "topic 17 [None] god, christian, jesu, bibl, church, peopl, sin, religion, atheist, christ\n",
      "topic 18 [None] printer, version, print, richard, pro, udel, subject, psu, driver, rit\n",
      "topic 19 [None] israel, isra, arab, jew, jewish, palestinian, boni, war, jake, kill\n",
      "\n",
      "                       precision    recall  f1-score   support\n",
      "\n",
      "               others       0.95      0.96      0.95     17867\n",
      "comp_sys_mac_hardware       0.00      0.00      0.00       931\n",
      "\n",
      "             accuracy                           0.91     18798\n",
      "            macro avg       0.47      0.48      0.48     18798\n",
      "         weighted avg       0.90      0.91      0.91     18798\n",
      "\n",
      "\n",
      "\n",
      "\n",
      "['comp_sys_mac_hardware' 'comp_sys_mac_hardware' 'comp_sys_mac_hardware'\n",
      " 'comp_sys_mac_hardware' 'comp_sys_mac_hardware' 'comp_sys_mac_hardware'\n",
      " 'comp_sys_mac_hardware' 'comp_sys_mac_hardware' 'comp_sys_mac_hardware'\n",
      " 'comp_sys_mac_hardware' 'comp_sys_mac_hardware' 'comp_sys_mac_hardware'\n",
      " 'comp_sys_mac_hardware' 'comp_sys_mac_hardware' 'comp_sys_mac_hardware'\n",
      " 'comp_sys_mac_hardware' 'comp_sys_mac_hardware' 'comp_sys_mac_hardware'\n",
      " 'comp_sys_mac_hardware' 'comp_sys_mac_hardware']\n"
     ]
    },
    {
     "name": "stderr",
     "output_type": "stream",
     "text": [
      "docs processed (itr 1): 100%|##########| 18828/18828 [00:27<00:00, 676.86it/s]\n"
     ]
    },
    {
     "name": "stdout",
     "output_type": "stream",
     "text": [
      "topic 0 [None] kei, encrypt, clipper, chip, secur, govern, escrow, phone, algorithm, netcom\n",
      "topic 1 [None] file, program, server, graphic, ftp, displai, sun, imag, mail, format\n",
      "topic 2 [None] andrew, bob, cmu, detector, ohio, subject, radar, ac, write, radio\n",
      "topic 3 [None] window, do, henri, cramer, microsoft, file, program, homosexu, run, manag\n",
      "topic 4 [None] drive, disk, scsi, hard, id, control, floppi, problem, tape, mac\n",
      "topic 5 [None] uiuc, cso, write, uxa, new, sky, articl, subject, point, scienc\n",
      "topic 6 [None] monitor, sale, price, appl, power, engin, mac, comput, offer, sell\n",
      "topic 7 [None] insur, health, doctor, medic, columbia, umd, food, inform, gari, year\n",
      "topic 8 [None] fire, fbi, koresh, govern, batf, peopl, waco, atf, children, stratu\n",
      "topic 9 [comp_sys_mac_hardware] pat, imag, space, orbit, digex, nasa, list, access, mission, model\n",
      "topic 10 [None] car, armenian, turkish, msg, armenia, peopl, turk, turkei, dealer, greek\n",
      "topic 11 [None] game, team, player, plai, hockei, fan, win, year, basebal, season\n",
      "topic 12 [None] bike, gun, ride, dod, motorcycl, articl, bmw, write, don, dog\n",
      "topic 13 [None] moral, sandvik, islam, muslim, kent, pitt, object, articl, bank, write\n",
      "topic 14 [None] brian, michael, chri, write, articl, subject, utexa, georgia, ibm, uga\n",
      "topic 15 [None] space, mhz, font, max, cpu, board, mark, speed, nasa, acceler\n",
      "topic 16 [None] card, video, bit, port, mous, driver, keith, simm, mode, modem\n",
      "topic 17 [None] god, christian, jesu, bibl, church, sin, peopl, christ, religion, atheist\n",
      "topic 18 [None] printer, version, print, subject, richard, pro, udel, driver, psu, book\n",
      "topic 19 [None] israel, isra, jew, arab, jewish, war, palestinian, kill, boni, state\n",
      "\n",
      "                       precision    recall  f1-score   support\n",
      "\n",
      "               others       0.95      0.96      0.95     17867\n",
      "comp_sys_mac_hardware       0.00      0.00      0.00       931\n",
      "\n",
      "             accuracy                           0.91     18798\n",
      "            macro avg       0.48      0.48      0.48     18798\n",
      "         weighted avg       0.90      0.91      0.91     18798\n",
      "\n",
      "\n",
      "\n",
      "\n",
      "['comp_sys_mac_hardware' 'comp_sys_mac_hardware' 'comp_sys_mac_hardware'\n",
      " 'comp_sys_mac_hardware' 'comp_sys_mac_hardware' 'comp_sys_mac_hardware'\n",
      " 'comp_sys_mac_hardware' 'comp_sys_mac_hardware' 'comp_sys_mac_hardware'\n",
      " 'comp_sys_mac_hardware' 'comp_sys_mac_hardware' 'comp_sys_mac_hardware'\n",
      " 'comp_sys_mac_hardware' 'comp_sys_mac_hardware' 'comp_sys_mac_hardware'\n",
      " 'comp_sys_mac_hardware' 'comp_sys_mac_hardware' 'comp_sys_mac_hardware'\n",
      " 'comp_sys_mac_hardware' 'comp_sys_mac_hardware']\n"
     ]
    },
    {
     "name": "stderr",
     "output_type": "stream",
     "text": [
      "docs processed (itr 2): 100%|##########| 18828/18828 [00:27<00:00, 683.23it/s]\n"
     ]
    },
    {
     "name": "stdout",
     "output_type": "stream",
     "text": [
      "topic 0 [None] kei, encrypt, clipper, chip, govern, secur, escrow, phone, algorithm, netcom\n",
      "topic 1 [None] file, program, server, graphic, ftp, imag, displai, sun, window, mail\n",
      "topic 2 [None] andrew, bob, cmu, ohio, subject, detector, ac, write, state, articl\n",
      "topic 3 [None] window, do, henri, cramer, file, microsoft, program, run, homosexu, win\n",
      "topic 4 [None] drive, disk, scsi, hard, id, control, floppi, problem, mac, tape\n",
      "topic 5 [None] uiuc, cso, write, uxa, new, articl, subject, sky, point, scienc\n",
      "topic 6 [None] monitor, sale, price, appl, power, engin, offer, sell, subject, comput\n",
      "topic 7 [None] insur, health, doctor, medic, food, columbia, umd, inform, year, subject\n",
      "topic 8 [None] fbi, fire, koresh, govern, peopl, batf, waco, gun, write, atf\n",
      "topic 9 [comp_sys_mac_hardware] pat, space, orbit, nasa, imag, digex, access, list, mission, subject\n",
      "topic 10 [None] car, armenian, turkish, msg, peopl, armenia, turk, turkei, dealer, greek\n",
      "topic 11 [None] game, team, player, plai, hockei, year, fan, win, basebal, season\n",
      "topic 12 [None] bike, gun, ride, dod, articl, write, motorcycl, don, bmw, dog\n",
      "topic 13 [None] moral, sandvik, islam, muslim, kent, pitt, object, articl, write, jon\n",
      "topic 14 [None] brian, michael, write, chri, articl, subject, georgia, ibm, utexa, uga\n",
      "topic 15 [None] space, mhz, font, max, cpu, mark, board, nasa, speed, system\n",
      "topic 16 [None] card, video, bit, driver, port, mous, simm, keith, mode, modem\n",
      "topic 17 [None] god, christian, jesu, bibl, church, peopl, sin, christ, religion, atheist\n",
      "topic 18 [None] printer, print, version, subject, richard, driver, pro, udel, book, psu\n",
      "topic 19 [None] israel, isra, jew, arab, jewish, war, kill, palestinian, state, peopl\n",
      "\n",
      "                       precision    recall  f1-score   support\n",
      "\n",
      "               others       0.95      0.96      0.95     17867\n",
      "comp_sys_mac_hardware       0.00      0.00      0.00       931\n",
      "\n",
      "             accuracy                           0.91     18798\n",
      "            macro avg       0.48      0.48      0.48     18798\n",
      "         weighted avg       0.90      0.91      0.91     18798\n",
      "\n",
      "\n",
      "\n",
      "\n",
      "['comp_sys_mac_hardware' 'comp_sys_mac_hardware' 'comp_sys_mac_hardware'\n",
      " 'comp_sys_mac_hardware' 'comp_sys_mac_hardware' 'comp_sys_mac_hardware'\n",
      " 'comp_sys_mac_hardware' 'comp_sys_mac_hardware' 'comp_sys_mac_hardware'\n",
      " 'comp_sys_mac_hardware' 'comp_sys_mac_hardware' 'comp_sys_mac_hardware'\n",
      " 'comp_sys_mac_hardware' 'comp_sys_mac_hardware' 'comp_sys_mac_hardware'\n",
      " 'comp_sys_mac_hardware' 'comp_sys_mac_hardware' 'comp_sys_mac_hardware'\n",
      " 'comp_sys_mac_hardware' 'comp_sys_mac_hardware']\n"
     ]
    },
    {
     "name": "stderr",
     "output_type": "stream",
     "text": [
      "docs processed (itr 3): 100%|##########| 18828/18828 [00:27<00:00, 682.65it/s]\n"
     ]
    },
    {
     "name": "stdout",
     "output_type": "stream",
     "text": [
      "topic 0 [None] kei, encrypt, clipper, chip, govern, secur, escrow, phone, algorithm, netcom\n",
      "topic 1 [None] file, program, graphic, server, imag, window, ftp, displai, mail, sun\n",
      "topic 2 [None] andrew, cmu, bob, ohio, subject, ac, detector, state, write, articl\n",
      "topic 3 [None] window, do, cramer, henri, file, microsoft, program, run, homosexu, win\n",
      "topic 4 [None] drive, disk, scsi, hard, id, control, floppi, problem, mac, tape\n",
      "topic 5 [None] uiuc, cso, write, uxa, new, subject, articl, sky, point, scienc\n",
      "topic 6 [None] monitor, sale, price, appl, power, engin, sell, offer, subject, car\n",
      "topic 7 [None] insur, health, doctor, medic, food, columbia, year, inform, umd, subject\n",
      "topic 8 [None] fbi, fire, koresh, govern, peopl, batf, waco, gun, write, atf\n",
      "topic 9 [comp_sys_mac_hardware] space, pat, nasa, orbit, digex, access, imag, mission, gov, earth\n",
      "topic 10 [None] car, armenian, turkish, msg, peopl, armenia, turk, turkei, greek, year\n",
      "topic 11 [None] game, team, player, plai, hockei, year, win, fan, basebal, season\n",
      "topic 12 [None] bike, gun, ride, dod, write, articl, motorcycl, don, bmw, dog\n",
      "topic 13 [None] moral, sandvik, islam, muslim, kent, pitt, object, articl, write, jon\n",
      "topic 14 [None] brian, michael, write, articl, subject, chri, georgia, ibm, uga, utexa\n",
      "topic 15 [None] space, mhz, font, max, cpu, mark, nasa, board, speed, system\n",
      "topic 16 [None] card, video, bit, driver, port, mous, simm, keith, mode, modem\n",
      "topic 17 [None] god, christian, jesu, bibl, church, peopl, sin, religion, christ, atheist\n",
      "topic 18 [None] printer, print, version, subject, richard, driver, book, pro, udel, psu\n",
      "topic 19 [None] israel, isra, jew, arab, jewish, war, kill, state, palestinian, peopl\n",
      "\n",
      "                       precision    recall  f1-score   support\n",
      "\n",
      "               others       0.95      0.96      0.95     17867\n",
      "comp_sys_mac_hardware       0.01      0.00      0.00       931\n",
      "\n",
      "             accuracy                           0.91     18798\n",
      "            macro avg       0.48      0.48      0.48     18798\n",
      "         weighted avg       0.90      0.91      0.91     18798\n",
      "\n",
      "\n",
      "\n",
      "\n",
      "['comp_sys_mac_hardware' 'comp_sys_mac_hardware' 'comp_sys_mac_hardware'\n",
      " 'comp_sys_mac_hardware' 'comp_sys_mac_hardware' 'comp_sys_mac_hardware'\n",
      " 'comp_sys_mac_hardware' 'comp_sys_mac_hardware' 'comp_sys_mac_hardware'\n",
      " 'comp_sys_mac_hardware' 'comp_sys_mac_hardware' 'comp_sys_mac_hardware'\n",
      " 'comp_sys_mac_hardware' 'comp_sys_mac_hardware' 'comp_sys_mac_hardware'\n",
      " 'comp_sys_mac_hardware' 'comp_sys_mac_hardware' 'comp_sys_mac_hardware'\n",
      " 'comp_sys_mac_hardware' 'comp_sys_mac_hardware']\n"
     ]
    },
    {
     "name": "stderr",
     "output_type": "stream",
     "text": [
      "docs processed (itr 4): 100%|##########| 18828/18828 [00:27<00:00, 677.37it/s]\n"
     ]
    },
    {
     "name": "stdout",
     "output_type": "stream",
     "text": [
      "topic 0 [None] kei, encrypt, clipper, chip, govern, secur, escrow, phone, algorithm, netcom\n",
      "topic 1 [None] file, program, graphic, imag, server, window, displai, ftp, mail, format\n",
      "topic 2 [None] andrew, cmu, bob, ohio, ac, subject, state, detector, write, articl\n",
      "topic 3 [None] window, do, cramer, file, microsoft, henri, program, homosexu, run, win\n",
      "topic 4 [None] drive, disk, scsi, hard, id, control, floppi, problem, mac, tape\n",
      "topic 5 [None] uiuc, cso, write, uxa, new, subject, articl, point, sky, scienc\n",
      "topic 6 [None] sale, monitor, price, appl, power, engin, car, sell, offer, subject\n",
      "topic 7 [None] insur, health, doctor, medic, food, year, inform, columbia, subject, umd\n",
      "topic 8 [None] fbi, fire, koresh, peopl, govern, batf, waco, gun, write, clinton\n",
      "topic 9 [comp_sys_mac_hardware] space, nasa, pat, orbit, digex, access, gov, mission, imag, earth\n",
      "topic 10 [None] car, armenian, turkish, msg, peopl, armenia, turk, turkei, greek, year\n",
      "topic 11 [None] game, team, player, plai, hockei, year, win, fan, basebal, season\n",
      "topic 12 [None] bike, gun, ride, dod, write, articl, motorcycl, don, bmw, dog\n",
      "topic 13 [None] moral, sandvik, islam, muslim, kent, write, jon, articl, object, pitt\n",
      "topic 14 [None] brian, michael, write, articl, subject, chri, georgia, uga, ibm, apr\n",
      "topic 15 [None] space, mhz, font, max, cpu, mark, nasa, speed, subject, board\n",
      "topic 16 [None] card, video, driver, bit, port, mous, simm, modem, mode, board\n",
      "topic 17 [None] god, christian, jesu, bibl, church, peopl, sin, religion, christ, atheist\n",
      "topic 18 [None] printer, print, subject, version, book, driver, richard, udel, pro, email\n",
      "topic 19 [None] israel, isra, jew, arab, jewish, war, kill, peopl, state, palestinian\n",
      "\n",
      "                       precision    recall  f1-score   support\n",
      "\n",
      "               others       0.95      0.96      0.95     17867\n",
      "comp_sys_mac_hardware       0.01      0.01      0.01       931\n",
      "\n",
      "             accuracy                           0.91     18798\n",
      "            macro avg       0.48      0.48      0.48     18798\n",
      "         weighted avg       0.90      0.91      0.91     18798\n",
      "\n",
      "\n",
      "\n",
      "\n",
      "['comp_sys_mac_hardware' 'comp_sys_mac_hardware' 'comp_sys_mac_hardware'\n",
      " 'comp_sys_mac_hardware' 'comp_sys_mac_hardware' 'comp_sys_mac_hardware'\n",
      " 'comp_sys_mac_hardware' 'comp_sys_mac_hardware' 'comp_sys_mac_hardware'\n",
      " 'comp_sys_mac_hardware' 'comp_sys_mac_hardware' 'comp_sys_mac_hardware'\n",
      " 'comp_sys_mac_hardware' 'comp_sys_mac_hardware' 'comp_sys_mac_hardware'\n",
      " 'comp_sys_mac_hardware' 'comp_sys_mac_hardware' 'comp_sys_mac_hardware'\n",
      " 'comp_sys_mac_hardware' 'comp_sys_mac_hardware']\n"
     ]
    },
    {
     "name": "stderr",
     "output_type": "stream",
     "text": [
      "docs processed (itr 5): 100%|##########| 18828/18828 [00:27<00:00, 685.77it/s]\n"
     ]
    },
    {
     "name": "stdout",
     "output_type": "stream",
     "text": [
      "topic 0 [None] kei, encrypt, clipper, chip, govern, secur, escrow, phone, algorithm, netcom\n",
      "topic 1 [None] file, program, imag, graphic, window, server, displai, ftp, mail, format\n",
      "topic 2 [None] andrew, cmu, bob, ohio, ac, state, subject, detector, magnu, write\n",
      "topic 3 [None] window, do, cramer, file, microsoft, henri, program, homosexu, run, win\n",
      "topic 4 [None] drive, disk, scsi, hard, id, control, floppi, mac, problem, tape\n",
      "topic 5 [None] uiuc, cso, write, uxa, subject, new, articl, point, sky, scienc\n",
      "topic 6 [None] sale, monitor, price, power, car, appl, sell, engin, offer, subject\n",
      "topic 7 [None] insur, health, doctor, medic, food, year, inform, subject, columbia, time\n",
      "topic 8 [None] fbi, fire, koresh, peopl, govern, batf, waco, gun, write, clinton\n",
      "topic 9 [comp_sys_mac_hardware] space, nasa, pat, orbit, digex, access, gov, mission, launch, earth\n",
      "topic 10 [None] car, armenian, turkish, msg, peopl, armenia, turk, turkei, greek, year\n",
      "topic 11 [None] game, team, player, plai, hockei, year, win, fan, basebal, season\n",
      "topic 12 [None] bike, gun, ride, dod, write, articl, motorcycl, don, bmw, dog\n",
      "topic 13 [None] moral, sandvik, islam, muslim, jon, write, kent, object, articl, pitt\n",
      "topic 14 [None] brian, michael, write, articl, subject, chri, georgia, uga, ibm, apr\n",
      "topic 15 [None] space, mhz, font, max, cpu, mark, nasa, speed, subject, chip\n",
      "topic 16 [None] card, video, driver, bit, port, mous, simm, modem, board, mode\n",
      "topic 17 [None] god, christian, jesu, bibl, church, peopl, sin, religion, christ, faith\n",
      "topic 18 [None] printer, print, subject, version, book, driver, udel, email, mail, richard\n",
      "topic 19 [None] israel, isra, jew, arab, jewish, war, kill, peopl, palestinian, state\n",
      "\n",
      "                       precision    recall  f1-score   support\n",
      "\n",
      "               others       0.95      0.96      0.95     17867\n",
      "comp_sys_mac_hardware       0.01      0.01      0.01       931\n",
      "\n",
      "             accuracy                           0.91     18798\n",
      "            macro avg       0.48      0.48      0.48     18798\n",
      "         weighted avg       0.90      0.91      0.91     18798\n",
      "\n",
      "\n",
      "\n",
      "\n",
      "['comp_sys_mac_hardware' 'comp_sys_mac_hardware' 'comp_sys_mac_hardware'\n",
      " 'comp_sys_mac_hardware' 'comp_sys_mac_hardware' 'comp_sys_mac_hardware'\n",
      " 'comp_sys_mac_hardware' 'comp_sys_mac_hardware' 'comp_sys_mac_hardware'\n",
      " 'comp_sys_mac_hardware' 'comp_sys_mac_hardware' 'comp_sys_mac_hardware'\n",
      " 'comp_sys_mac_hardware' 'comp_sys_mac_hardware' 'comp_sys_mac_hardware'\n",
      " 'comp_sys_mac_hardware' 'comp_sys_mac_hardware' 'comp_sys_mac_hardware'\n",
      " 'comp_sys_mac_hardware' 'comp_sys_mac_hardware']\n"
     ]
    },
    {
     "name": "stderr",
     "output_type": "stream",
     "text": [
      "docs processed (itr 6): 100%|##########| 18828/18828 [00:27<00:00, 684.69it/s]\n"
     ]
    },
    {
     "name": "stdout",
     "output_type": "stream",
     "text": [
      "topic 0 [None] kei, encrypt, clipper, chip, govern, secur, escrow, phone, algorithm, netcom\n",
      "topic 1 [None] file, program, imag, window, graphic, server, displai, ftp, mail, format\n",
      "topic 2 [None] andrew, cmu, bob, ohio, ac, state, subject, magnu, detector, write\n",
      "topic 3 [None] window, do, cramer, file, microsoft, homosexu, win, program, run, manag\n",
      "topic 4 [None] drive, disk, scsi, hard, id, control, floppi, mac, problem, tape\n",
      "topic 5 [None] uiuc, cso, write, uxa, subject, new, articl, point, sky, scienc\n",
      "topic 6 [None] sale, monitor, price, car, power, sell, engin, appl, offer, subject\n",
      "topic 7 [None] insur, health, doctor, medic, food, year, inform, subject, time, drug\n",
      "topic 8 [None] fbi, fire, koresh, peopl, govern, batf, waco, gun, clinton, write\n",
      "topic 9 [comp_sys_mac_hardware] space, nasa, orbit, pat, gov, digex, access, launch, mission, shuttl\n",
      "topic 10 [None] car, armenian, turkish, peopl, msg, armenia, turk, turkei, greek, year\n",
      "topic 11 [None] game, team, player, plai, year, hockei, win, fan, basebal, season\n",
      "topic 12 [None] bike, gun, ride, dod, write, articl, motorcycl, don, bmw, dog\n",
      "topic 13 [None] moral, sandvik, islam, muslim, jon, write, object, articl, kent, pitt\n",
      "topic 14 [None] brian, michael, write, articl, subject, chri, georgia, uga, apr, gatech\n",
      "topic 15 [None] space, mhz, font, max, cpu, mark, nasa, subject, speed, chip\n",
      "topic 16 [None] card, video, driver, bit, port, mous, modem, simm, board, mode\n",
      "topic 17 [None] god, christian, jesu, bibl, church, peopl, sin, religion, christ, faith\n",
      "topic 18 [None] printer, print, subject, version, book, mail, driver, email, udel, softwar\n",
      "topic 19 [None] israel, isra, jew, arab, jewish, war, kill, peopl, palestinian, state\n",
      "\n",
      "                       precision    recall  f1-score   support\n",
      "\n",
      "               others       0.95      0.95      0.95     17867\n",
      "comp_sys_mac_hardware       0.01      0.01      0.01       931\n",
      "\n",
      "             accuracy                           0.91     18798\n",
      "            macro avg       0.48      0.48      0.48     18798\n",
      "         weighted avg       0.90      0.91      0.90     18798\n",
      "\n",
      "\n",
      "\n",
      "\n",
      "['comp_sys_mac_hardware' 'comp_sys_mac_hardware' 'comp_sys_mac_hardware'\n",
      " 'comp_sys_mac_hardware' 'comp_sys_mac_hardware' 'comp_sys_mac_hardware'\n",
      " 'comp_sys_mac_hardware' 'comp_sys_mac_hardware' 'comp_sys_mac_hardware'\n",
      " 'comp_sys_mac_hardware' 'comp_sys_mac_hardware' 'comp_sys_mac_hardware'\n",
      " 'comp_sys_mac_hardware' 'comp_sys_mac_hardware' 'comp_sys_mac_hardware'\n",
      " 'comp_sys_mac_hardware' 'comp_sys_mac_hardware' 'comp_sys_mac_hardware'\n",
      " 'comp_sys_mac_hardware' 'comp_sys_mac_hardware']\n"
     ]
    },
    {
     "name": "stderr",
     "output_type": "stream",
     "text": [
      "docs processed (itr 7): 100%|##########| 18828/18828 [00:27<00:00, 684.72it/s]\n"
     ]
    },
    {
     "name": "stdout",
     "output_type": "stream",
     "text": [
      "topic 0 [None] kei, encrypt, clipper, chip, govern, secur, escrow, phone, algorithm, netcom\n",
      "topic 1 [None] file, program, imag, window, graphic, server, displai, ftp, format, mail\n",
      "topic 2 [None] andrew, cmu, bob, ohio, ac, state, subject, magnu, detector, write\n",
      "topic 3 [None] window, do, file, cramer, microsoft, homosexu, win, run, program, manag\n",
      "topic 4 [None] drive, disk, scsi, hard, id, mac, control, floppi, problem, tape\n",
      "topic 5 [None] uiuc, cso, write, uxa, subject, new, articl, point, scienc, sky\n",
      "topic 6 [None] sale, monitor, price, car, power, sell, engin, offer, subject, appl\n",
      "topic 7 [None] insur, health, doctor, medic, food, year, inform, subject, drug, time\n",
      "topic 8 [None] fbi, fire, peopl, koresh, govern, gun, batf, waco, clinton, write\n",
      "topic 9 [comp_sys_mac_hardware] nasa, space, orbit, pat, gov, digex, henri, access, launch, mission\n",
      "topic 10 [None] car, armenian, turkish, peopl, msg, armenia, turk, turkei, greek, year\n",
      "topic 11 [None] game, team, player, plai, year, hockei, win, basebal, fan, season\n",
      "topic 12 [None] bike, gun, ride, dod, write, articl, motorcycl, don, bmw, dog\n",
      "topic 13 [None] moral, sandvik, islam, keith, muslim, write, jon, object, articl, kent\n",
      "topic 14 [None] brian, michael, write, articl, subject, chri, georgia, uga, gatech, apr\n",
      "topic 15 [None] space, mhz, font, max, cpu, mark, subject, speed, chip, nasa\n",
      "topic 16 [None] card, video, driver, bit, port, mous, modem, simm, board, mode\n",
      "topic 17 [None] god, christian, jesu, bibl, church, peopl, sin, religion, christ, faith\n",
      "topic 18 [None] printer, print, subject, version, book, mail, email, driver, udel, softwar\n",
      "topic 19 [None] israel, isra, jew, arab, jewish, war, kill, peopl, palestinian, state\n",
      "\n",
      "                       precision    recall  f1-score   support\n",
      "\n",
      "               others       0.95      0.95      0.95     17867\n",
      "comp_sys_mac_hardware       0.01      0.01      0.01       931\n",
      "\n",
      "             accuracy                           0.90     18798\n",
      "            macro avg       0.48      0.48      0.48     18798\n",
      "         weighted avg       0.90      0.90      0.90     18798\n",
      "\n",
      "\n",
      "\n",
      "\n",
      "['comp_sys_mac_hardware' 'comp_sys_mac_hardware' 'comp_sys_mac_hardware'\n",
      " 'comp_sys_mac_hardware' 'comp_sys_mac_hardware' 'comp_sys_mac_hardware'\n",
      " 'comp_sys_mac_hardware' 'comp_sys_mac_hardware' 'comp_sys_mac_hardware'\n",
      " 'comp_sys_mac_hardware' 'comp_sys_mac_hardware' 'comp_sys_mac_hardware'\n",
      " 'comp_sys_mac_hardware' 'comp_sys_mac_hardware' 'comp_sys_mac_hardware'\n",
      " 'comp_sys_mac_hardware' 'comp_sys_mac_hardware' 'comp_sys_mac_hardware'\n",
      " 'comp_sys_mac_hardware' 'comp_sys_mac_hardware']\n"
     ]
    },
    {
     "name": "stderr",
     "output_type": "stream",
     "text": [
      "docs processed (itr 8): 100%|##########| 18828/18828 [00:27<00:00, 691.49it/s]\n"
     ]
    },
    {
     "name": "stdout",
     "output_type": "stream",
     "text": [
      "topic 0 [None] kei, encrypt, clipper, chip, govern, secur, escrow, phone, netcom, algorithm\n",
      "topic 1 [None] file, imag, program, window, graphic, server, displai, ftp, format, mail\n",
      "topic 2 [None] andrew, cmu, ohio, bob, ac, state, magnu, subject, detector, articl\n",
      "topic 3 [None] window, do, file, cramer, microsoft, homosexu, win, run, program, manag\n",
      "topic 4 [None] drive, disk, scsi, hard, id, mac, control, floppi, problem, do\n",
      "topic 5 [None] uiuc, cso, write, uxa, subject, new, articl, point, scienc, don\n",
      "topic 6 [None] sale, price, car, monitor, power, sell, engin, offer, subject, appl\n",
      "topic 7 [None] insur, health, doctor, medic, food, year, inform, drug, subject, time\n",
      "topic 8 [None] fbi, fire, peopl, koresh, gun, govern, batf, waco, clinton, write\n",
      "topic 9 [comp_sys_mac_hardware] nasa, space, orbit, pat, henri, gov, digex, launch, access, mission\n",
      "topic 10 [None] car, armenian, turkish, peopl, armenia, msg, turk, turkei, greek, year\n",
      "topic 11 [None] game, team, player, plai, year, hockei, win, basebal, fan, season\n",
      "topic 12 [None] bike, gun, ride, dod, write, motorcycl, articl, don, bmw, car\n",
      "topic 13 [None] moral, sandvik, keith, islam, write, muslim, jon, object, articl, kent\n",
      "topic 14 [None] michael, brian, write, articl, subject, georgia, chri, gatech, uga, apr\n",
      "topic 15 [None] mhz, space, max, font, cpu, mark, subject, speed, chip, clock\n",
      "topic 16 [None] card, video, driver, port, bit, modem, mous, simm, board, mode\n",
      "topic 17 [None] god, christian, jesu, bibl, church, peopl, sin, christ, religion, faith\n",
      "topic 18 [None] printer, print, subject, book, version, mail, email, driver, udel, softwar\n",
      "topic 19 [None] israel, isra, jew, arab, jewish, war, kill, peopl, palestinian, write\n",
      "\n",
      "                       precision    recall  f1-score   support\n",
      "\n",
      "               others       0.95      0.95      0.95     17867\n",
      "comp_sys_mac_hardware       0.01      0.01      0.01       931\n",
      "\n",
      "             accuracy                           0.90     18798\n",
      "            macro avg       0.48      0.48      0.48     18798\n",
      "         weighted avg       0.90      0.90      0.90     18798\n",
      "\n",
      "\n",
      "\n",
      "\n",
      "['comp_sys_mac_hardware' 'comp_sys_mac_hardware' 'comp_sys_mac_hardware'\n",
      " 'comp_sys_mac_hardware' 'comp_sys_mac_hardware' 'comp_sys_mac_hardware'\n",
      " 'comp_sys_mac_hardware' 'comp_sys_mac_hardware' 'comp_sys_mac_hardware'\n",
      " 'comp_sys_mac_hardware' 'comp_sys_mac_hardware' 'comp_sys_mac_hardware'\n",
      " 'comp_sys_mac_hardware' 'comp_sys_mac_hardware' 'comp_sys_mac_hardware'\n",
      " 'comp_sys_mac_hardware' 'comp_sys_mac_hardware' 'comp_sys_mac_hardware'\n",
      " 'comp_sys_mac_hardware' 'comp_sys_mac_hardware']\n"
     ]
    },
    {
     "name": "stderr",
     "output_type": "stream",
     "text": [
      "docs processed (itr 9): 100%|##########| 18828/18828 [00:27<00:00, 688.10it/s]\n"
     ]
    },
    {
     "name": "stdout",
     "output_type": "stream",
     "text": [
      "topic 0 [None] kei, encrypt, clipper, chip, govern, secur, escrow, phone, netcom, algorithm\n",
      "topic 1 [None] file, imag, window, program, graphic, displai, server, ftp, format, code\n",
      "topic 2 [None] andrew, cmu, ohio, bob, ac, state, magnu, subject, detector, articl\n",
      "topic 3 [None] window, do, file, cramer, microsoft, homosexu, win, run, program, gai\n",
      "topic 4 [None] drive, disk, scsi, hard, id, mac, control, floppi, problem, do\n",
      "topic 5 [None] uiuc, cso, write, uxa, subject, new, articl, point, scienc, don\n",
      "topic 6 [None] sale, car, price, monitor, power, engin, sell, offer, subject, ship\n",
      "topic 7 [None] insur, health, doctor, medic, food, year, drug, inform, subject, time\n",
      "topic 8 [None] fbi, fire, gun, peopl, koresh, govern, batf, waco, clinton, write\n",
      "topic 9 [comp_sys_mac_hardware] nasa, space, henri, orbit, pat, gov, launch, digex, access, shuttl\n",
      "topic 10 [None] car, armenian, turkish, peopl, armenia, turk, msg, turkei, greek, year\n",
      "topic 11 [None] game, team, player, plai, year, hockei, win, basebal, fan, season\n",
      "topic 12 [None] bike, gun, ride, dod, write, motorcycl, articl, don, bmw, car\n",
      "topic 13 [None] moral, sandvik, keith, islam, write, jon, muslim, object, articl, kent\n",
      "topic 14 [None] michael, brian, write, articl, subject, georgia, chri, gatech, uga, apr\n",
      "topic 15 [None] mhz, space, max, font, cpu, mark, subject, speed, chip, clock\n",
      "topic 16 [None] card, video, driver, modem, port, bit, mous, simm, board, monitor\n",
      "topic 17 [None] god, christian, jesu, bibl, church, peopl, sin, christ, religion, faith\n",
      "topic 18 [None] printer, print, subject, book, version, mail, email, driver, softwar, udel\n",
      "topic 19 [None] israel, isra, jew, arab, jewish, war, kill, peopl, palestinian, write\n",
      "\n",
      "                       precision    recall  f1-score   support\n",
      "\n",
      "               others       0.95      0.95      0.95     17867\n",
      "comp_sys_mac_hardware       0.01      0.01      0.01       931\n",
      "\n",
      "             accuracy                           0.90     18798\n",
      "            macro avg       0.48      0.48      0.48     18798\n",
      "         weighted avg       0.90      0.90      0.90     18798\n",
      "\n",
      "\n",
      "\n",
      "\n",
      "['comp_sys_mac_hardware' 'comp_sys_mac_hardware' 'comp_sys_mac_hardware'\n",
      " 'comp_sys_mac_hardware' 'comp_sys_mac_hardware' 'comp_sys_mac_hardware'\n",
      " 'comp_sys_mac_hardware' 'comp_sys_mac_hardware' 'comp_sys_mac_hardware'\n",
      " 'comp_sys_mac_hardware' 'comp_sys_mac_hardware' 'comp_sys_mac_hardware'\n",
      " 'comp_sys_mac_hardware' 'comp_sys_mac_hardware' 'comp_sys_mac_hardware'\n",
      " 'comp_sys_mac_hardware' 'comp_sys_mac_hardware' 'comp_sys_mac_hardware'\n",
      " 'comp_sys_mac_hardware' 'comp_sys_mac_hardware']\n"
     ]
    },
    {
     "data": {
      "text/plain": [
       "TPBG(alpha=0.005, eval_func=<function eval_func at 0x7f8ddd9b7af0>,\n",
       "     feature_names=array(['aa', 'aaa', 'aaaaa', ..., 'zzo', 'zzr', 'zzzzzz'], dtype=object),\n",
       "     global_max_itr=10.0, local_max_itr=10.0, n_components=20)"
      ]
     },
     "execution_count": 37,
     "metadata": {},
     "output_type": "execute_result"
    }
   ],
   "source": [
    "\n",
    "def remove_rows(X, y, idxs):\n",
    "    if len(idxs) == 0: return X, y\n",
    "    mask = np.ones(X.shape[0], dtype=bool)\n",
    "    mask[idxs] = False\n",
    "    w = np.flatnonzero(mask)\n",
    "    return X[w], y[w]\n",
    "\n",
    "def eval_func(model):\n",
    "        y_predict = model.predict(X_test)\n",
    "        y_predict = [1 if c == choosed_cls else 0 for c in y_predict]\n",
    "        y_test2 = [1 if c == choosed_cls else 0 for c in y_test]\n",
    "\n",
    "        # calcular a métrica\n",
    "        labels = [0, 1]\n",
    "        names = [\"others\", choosed_cls]\n",
    "        report = classification_report(\n",
    "            y_test2, y_predict, labels=labels, target_names=names\n",
    "        )\n",
    "        print('\\n'+report+'\\n')\n",
    "        r = most_probs(model.log_A, prob_topic_idx, 0.3)                   \n",
    "        print('\\n')\n",
    "        y_test3 = np.array(y)[r]        \n",
    "        print(y_test3[:20])\n",
    "        \n",
    "def most_prob_idx(A):\n",
    "    A = np.squeeze(A)\n",
    "    if A.ndim == 2:\n",
    "        A = np.sum(A, axis=1) \n",
    "    print(A)\n",
    "    return np.argmax(A)\n",
    "\n",
    "def most_probs(A, n_cls, p):\n",
    "    r = np.argmax(A, axis=1) # list of top topics per documents\n",
    "    n = int(np.sum(r == n_cls) * p) # p% of documents of class choosed_cls\n",
    "    m = A[np.arange(A.shape[0]), r]  # list of values\n",
    "    z = zip(range(A.shape[0]),r,m)\n",
    "    z = [x for x in z if x[1] == n_cls]\n",
    "    s = sorted(z, key=lambda x: x[2], reverse=True)\n",
    "    return [x[0] for x in s[:n]]   \n",
    "\n",
    "def top_docs(A, l_idx, p):\n",
    "    r = np.argmax(A, axis=1) # list of top topics per documents\n",
    "    m = A[np.arange(A.shape[0]), r]  # list of values\n",
    "    d = {}\n",
    "    for doc_id, k in enumerate(r):\n",
    "        l = d.get(k,[])\n",
    "        if len(l) == 0:\n",
    "            d[k] = l\n",
    "        l.append(doc_id)\n",
    "    return d\n",
    "\n",
    "\n",
    "target_name = list(set(y))\n",
    "n_class = len(target_name)\n",
    "n_docs = X.shape[0]\n",
    "print(n_docs)\n",
    "\n",
    "# selecionar aleatoriamente uma classe e n_pos exemplo rotulado\n",
    "choosed_cls = target_name[randint(0, n_class - 1)]\n",
    "selected_docs = np.random.choice(\n",
    "    np.where(y == choosed_cls)[0], size=n_pos, replace=False\n",
    ") \n",
    "\n",
    "# most probable topic index\n",
    "prob_topic_idx = most_prob_idx(model.log_A[selected_docs])\n",
    "print(choosed_cls, prob_topic_idx)\n",
    "# marcar com -1 todo o restante\n",
    "y_train = np.full(n_docs, -1, dtype=object)\n",
    "y_train[selected_docs] = choosed_cls\n",
    "\n",
    "# insere função de avaliação\n",
    "X_test, y_test = remove_rows(X, y, selected_docs)\n",
    "model.eval_func = eval_func\n",
    "\n",
    "# treinar o modelo\n",
    "print(model.log_A.shape)\n",
    "model.fit(X, y_train, one_class_idx=prob_topic_idx, one_class_name=choosed_cls)"
   ]
  },
  {
   "cell_type": "code",
   "execution_count": 7,
   "metadata": {},
   "outputs": [],
   "source": []
  },
  {
   "cell_type": "code",
   "execution_count": null,
   "metadata": {},
   "outputs": [],
   "source": []
  }
 ],
 "metadata": {
  "interpreter": {
   "hash": "31f2aee4e71d21fbe5cf8b01ff0e069b9275f58929596ceb00d14d90e3e16cd6"
  },
  "kernelspec": {
   "display_name": "Python 3.8.10 64-bit",
   "language": "python",
   "name": "python3"
  },
  "language_info": {
   "codemirror_mode": {
    "name": "ipython",
    "version": 3
   },
   "file_extension": ".py",
   "mimetype": "text/x-python",
   "name": "python",
   "nbconvert_exporter": "python",
   "pygments_lexer": "ipython3",
   "version": "3.9.5"
  },
  "orig_nbformat": 4
 },
 "nbformat": 4,
 "nbformat_minor": 2
}
