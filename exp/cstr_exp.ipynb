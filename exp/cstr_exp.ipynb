{
 "cells": [
  {
   "cell_type": "code",
   "execution_count": 8,
   "metadata": {},
   "outputs": [
    {
     "name": "stdout",
     "output_type": "stream",
     "text": [
      "The autoreload extension is already loaded. To reload it, use:\n",
      "  %reload_ext autoreload\n"
     ]
    }
   ],
   "source": [
    "%load_ext autoreload\n",
    "%autoreload 2\n",
    "\n",
    "from pbg import TPBG\n",
    "from scipy.io import arff\n",
    "import pandas as pd\n",
    "from skmultilearn.dataset import load_from_arff\n",
    "import pbg.util\n",
    "from sklearn.feature_extraction.text import TfidfVectorizer\n",
    "from random import randint\n",
    "import numpy as np\n",
    "from sklearn.metrics import confusion_matrix\n",
    "from sklearn.model_selection import train_test_split\n",
    "from sklearn.metrics import f1_score\n"
   ]
  },
  {
   "cell_type": "code",
   "execution_count": 9,
   "metadata": {},
   "outputs": [],
   "source": [
    "csv_file = '/home/thiagodepaulo/exp/text-collections/Sequence_of_words_CSV/CSTR.csv'\n",
    "n_class = 4\n",
    "n_pos = 5\n",
    "k = 4"
   ]
  },
  {
   "cell_type": "code",
   "execution_count": 10,
   "metadata": {},
   "outputs": [],
   "source": [
    "loader = pbg.util.Loader()\n",
    "X, y = loader.load_csv(csv_file, text_column='Text', class_column='Class')\n",
    "target_name = list(set(y))\n",
    "vect = TfidfVectorizer()\n",
    "X = vect.fit_transform(X)\n",
    "\n",
    "X_train, X_test, y_train, y_test = train_test_split(X, y, test_size=0.2, shuffle = True) \n",
    "\n",
    "model = TPBG(k, alpha=0.05, beta=0.0001, local_max_itr=10,\n",
    "                 global_max_itr=10, local_threshold=1e-6, global_threshold=1e-6,\n",
    "                 save_interval=-1, feature_names=vect.get_feature_names_out(),  \n",
    "                 silence=False)\n"
   ]
  },
  {
   "cell_type": "code",
   "execution_count": 11,
   "metadata": {},
   "outputs": [],
   "source": [
    "# selecionar aleatoriamente uma classe e n_pos exemplo rotulado\n",
    "choosed_cls = list(set(y_train))[randint(0,n_class-1)]    \n",
    "selected_idx = np.random.choice(np.where( y_train == choosed_cls)[0], size=n_pos, replace=False)\n",
    "    \n",
    "# marcar com -1 todo o restante\n",
    "y_train[[i for i in range(len(y_train)) if i not in selected_idx]] = -1 \n",
    "    "
   ]
  },
  {
   "cell_type": "code",
   "execution_count": 13,
   "metadata": {},
   "outputs": [
    {
     "name": "stderr",
     "output_type": "stream",
     "text": [
      "initialing.[]:   : 100%|##########| 1725/1725 [00:00<00:00, 3380.40it/s]\n",
      "docs processed (itr 0): 100%|##########| 239/239 [00:00<00:00, 899.62it/s]\n",
      "/home/thiagodepaulo/exp/PyPBG/pbg/tpbg.py:59: RuntimeWarning: divide by zero encountered in log\n",
      "  log_B_norm = np.log(self.B2) - np.log(sum_columns)\n"
     ]
    },
    {
     "name": "stdout",
     "output_type": "stream",
     "text": [
      "topic 0 [Systems] system, program, perform, data, conflict, semant, languag, transact, agent, reason\n",
      "topic 1 [None] imag, system, object, set, speech, problem, base, recognit, languag, method\n",
      "topic 2 [None] model, system, algorithm, imag, problem, visual, scene, learn, object, train\n",
      "topic 3 [None] object, problem, algorithm, model, system, recognit, class, robot, learn, task\n"
     ]
    },
    {
     "name": "stderr",
     "output_type": "stream",
     "text": [
      "docs processed (itr 1): 100%|##########| 239/239 [00:00<00:00, 894.83it/s]\n"
     ]
    },
    {
     "name": "stdout",
     "output_type": "stream",
     "text": [
      "topic 0 [Systems] system, program, reason, perform, agent, data, semant, parallel, languag, plan\n",
      "topic 1 [None] imag, object, system, speech, set, base, recognit, problem, method, inform\n",
      "topic 2 [None] model, visual, algorithm, imag, learn, scene, problem, predict, system, motion\n",
      "topic 3 [None] object, problem, recognit, algorithm, system, robot, model, class, learn, manipul\n"
     ]
    },
    {
     "name": "stderr",
     "output_type": "stream",
     "text": [
      "docs processed (itr 2): 100%|##########| 239/239 [00:00<00:00, 895.60it/s]\n"
     ]
    },
    {
     "name": "stdout",
     "output_type": "stream",
     "text": [
      "topic 0 [Systems] system, reason, agent, plan, program, parallel, perform, languag, semant, data\n",
      "topic 1 [None] object, imag, system, speech, base, set, recognit, method, inform, discours\n",
      "topic 2 [None] visual, model, algorithm, predict, learn, imag, scene, problem, motion, function\n",
      "topic 3 [None] object, problem, recognit, manipul, robot, system, algorithm, train, learn, class\n"
     ]
    },
    {
     "name": "stderr",
     "output_type": "stream",
     "text": [
      "docs processed (itr 3): 100%|##########| 239/239 [00:00<00:00, 890.76it/s]\n"
     ]
    },
    {
     "name": "stdout",
     "output_type": "stream",
     "text": [
      "topic 0 [Systems] plan, agent, reason, system, program, languag, parallel, semant, perform, data\n",
      "topic 1 [None] object, imag, speech, system, base, set, recognit, method, inform, discours\n",
      "topic 2 [None] visual, model, algorithm, predict, learn, imag, motion, scene, code, problem\n",
      "topic 3 [None] object, problem, manipul, recognit, robot, system, train, algorithm, control, learn\n"
     ]
    },
    {
     "name": "stderr",
     "output_type": "stream",
     "text": [
      "docs processed (itr 4): 100%|##########| 239/239 [00:00<00:00, 893.67it/s]\n"
     ]
    },
    {
     "name": "stdout",
     "output_type": "stream",
     "text": [
      "topic 0 [Systems] plan, agent, system, reason, program, languag, parallel, semant, data, represent\n",
      "topic 1 [None] object, imag, speech, system, base, recognit, set, point, method, inform\n",
      "topic 2 [None] visual, model, algorithm, predict, learn, imag, code, motion, scene, problem\n",
      "topic 3 [None] object, manipul, problem, recognit, system, robot, control, train, algorithm, learn\n"
     ]
    },
    {
     "name": "stderr",
     "output_type": "stream",
     "text": [
      "docs processed (itr 5): 100%|##########| 239/239 [00:00<00:00, 890.95it/s]\n"
     ]
    },
    {
     "name": "stdout",
     "output_type": "stream",
     "text": [
      "topic 0 [Systems] plan, agent, system, reason, program, languag, parallel, represent, data, semant\n",
      "topic 1 [None] object, imag, speech, system, recognit, base, set, point, method, structur\n",
      "topic 2 [None] visual, model, algorithm, predict, learn, imag, code, motion, scene, problem\n",
      "topic 3 [None] object, manipul, problem, system, control, robot, recognit, train, algorithm, label\n"
     ]
    },
    {
     "name": "stderr",
     "output_type": "stream",
     "text": [
      "docs processed (itr 6): 100%|##########| 239/239 [00:00<00:00, 889.18it/s]\n"
     ]
    },
    {
     "name": "stdout",
     "output_type": "stream",
     "text": [
      "topic 0 [Systems] plan, agent, system, reason, program, languag, parallel, represent, data, semant\n",
      "topic 1 [None] imag, object, speech, system, recognit, point, base, set, method, structur\n",
      "topic 2 [None] visual, model, algorithm, predict, learn, imag, code, motion, scene, movement\n",
      "topic 3 [None] object, manipul, problem, control, system, robot, recognit, elect, train, algorithm\n"
     ]
    },
    {
     "name": "stderr",
     "output_type": "stream",
     "text": [
      "docs processed (itr 7): 100%|##########| 239/239 [00:00<00:00, 897.73it/s]\n"
     ]
    },
    {
     "name": "stdout",
     "output_type": "stream",
     "text": [
      "topic 0 [Systems] plan, agent, system, reason, program, languag, parallel, represent, data, model\n",
      "topic 1 [None] imag, object, speech, system, recognit, point, base, set, word, structur\n",
      "topic 2 [None] visual, model, algorithm, predict, learn, imag, code, motion, movement, search\n",
      "topic 3 [None] object, manipul, problem, control, system, robot, elect, complex, recognit, train\n"
     ]
    },
    {
     "name": "stderr",
     "output_type": "stream",
     "text": [
      "docs processed (itr 8): 100%|##########| 239/239 [00:00<00:00, 887.59it/s]\n"
     ]
    },
    {
     "name": "stdout",
     "output_type": "stream",
     "text": [
      "topic 0 [Systems] plan, agent, system, reason, program, languag, parallel, represent, data, model\n",
      "topic 1 [None] imag, object, speech, recognit, point, system, word, base, set, structur\n",
      "topic 2 [None] visual, model, algorithm, predict, learn, imag, code, motion, movement, search\n",
      "topic 3 [None] object, problem, manipul, control, system, robot, elect, complex, algorithm, train\n"
     ]
    },
    {
     "name": "stderr",
     "output_type": "stream",
     "text": [
      "docs processed (itr 9): 100%|##########| 239/239 [00:00<00:00, 879.96it/s]"
     ]
    },
    {
     "name": "stdout",
     "output_type": "stream",
     "text": [
      "topic 0 [Systems] plan, agent, system, reason, program, languag, parallel, represent, model, user\n",
      "topic 1 [None] imag, object, speech, recognit, point, word, system, scene, base, method\n",
      "topic 2 [None] visual, model, algorithm, learn, predict, imag, code, motion, search, movement\n",
      "topic 3 [None] problem, manipul, object, control, system, robot, elect, complex, algorithm, function\n",
      "[[38 11]\n",
      " [ 0 11]]\n",
      "0.835632183908046\n",
      "0.8166666666666667\n",
      "0.7701149425287356\n"
     ]
    },
    {
     "name": "stderr",
     "output_type": "stream",
     "text": [
      "\n"
     ]
    }
   ],
   "source": [
    "# treinar o modelo\n",
    "model.fit(X_train, y_train)\n",
    "\n",
    "# classificar os exemplos de teste\n",
    "y_predict = model.predict(X_test)\n",
    "y_predict2 = [ 1 if c == choosed_cls else 0 for c in y_predict]\n",
    "y_test2 = [ 1 if c == choosed_cls else 0 for c in y_test]\n",
    "\n",
    "# calcular a métrica    \n",
    "print(confusion_matrix(y_test2, y_predict2))\n",
    "print(f1_score(y_test2, y_predict2, average='weighted'))\n",
    "print(f1_score(y_test2, y_predict2, average='micro'))\n",
    "print(f1_score(y_test2, y_predict2, average='macro'))\n",
    "\n",
    "# repita n vezes"
   ]
  },
  {
   "cell_type": "code",
   "execution_count": null,
   "metadata": {},
   "outputs": [],
   "source": []
  }
 ],
 "metadata": {
  "interpreter": {
   "hash": "31f2aee4e71d21fbe5cf8b01ff0e069b9275f58929596ceb00d14d90e3e16cd6"
  },
  "kernelspec": {
   "display_name": "Python 3.8.10 64-bit",
   "language": "python",
   "name": "python3"
  },
  "language_info": {
   "codemirror_mode": {
    "name": "ipython",
    "version": 3
   },
   "file_extension": ".py",
   "mimetype": "text/x-python",
   "name": "python",
   "nbconvert_exporter": "python",
   "pygments_lexer": "ipython3",
   "version": "3.8.10"
  },
  "orig_nbformat": 4
 },
 "nbformat": 4,
 "nbformat_minor": 2
}
